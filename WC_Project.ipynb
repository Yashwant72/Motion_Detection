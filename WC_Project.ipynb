{
  "nbformat": 4,
  "nbformat_minor": 0,
  "metadata": {
    "colab": {
      "provenance": [],
      "gpuType": "T4",
      "authorship_tag": "ABX9TyNJokWxqnc0h3CkhlVAHTkP",
      "include_colab_link": true
    },
    "kernelspec": {
      "name": "python3",
      "display_name": "Python 3"
    },
    "language_info": {
      "name": "python"
    },
    "accelerator": "GPU"
  },
  "cells": [
    {
      "cell_type": "markdown",
      "metadata": {
        "id": "view-in-github",
        "colab_type": "text"
      },
      "source": [
        "<a href=\"https://colab.research.google.com/github/Yashwant72/Motion_Detection/blob/main/WC_Project.ipynb\" target=\"_parent\"><img src=\"https://colab.research.google.com/assets/colab-badge.svg\" alt=\"Open In Colab\"/></a>"
      ]
    },
    {
      "cell_type": "code",
      "execution_count": null,
      "metadata": {
        "colab": {
          "base_uri": "https://localhost:8080/"
        },
        "id": "cWBoqILhnY-K",
        "outputId": "5d084327-dc12-46be-82d4-a4d3c5881d20"
      },
      "outputs": [
        {
          "output_type": "stream",
          "name": "stdout",
          "text": [
            "Mounted at /content/drive/\n"
          ]
        }
      ],
      "source": [
        "from google.colab import drive\n",
        "drive.mount('/content/drive/')"
      ]
    },
    {
      "cell_type": "code",
      "source": [
        "!unzip \"/content/drive/MyDrive/PhyData.zip\" -d \"/content\""
      ],
      "metadata": {
        "colab": {
          "base_uri": "https://localhost:8080/"
        },
        "id": "UdUV2HYg7RGh",
        "outputId": "50ba5587-41de-484a-f02f-429b57528e17"
      },
      "execution_count": null,
      "outputs": [
        {
          "output_type": "stream",
          "name": "stdout",
          "text": [
            "Archive:  /content/drive/MyDrive/PhyData.zip\n",
            "  inflating: /content/dataset2.csv   \n"
          ]
        }
      ]
    },
    {
      "cell_type": "code",
      "source": [
        "!pip install tensorflow-addons==0.16.1\n",
        "#import tensorflow_addons as tfa"
      ],
      "metadata": {
        "colab": {
          "base_uri": "https://localhost:8080/"
        },
        "id": "g5OK95mb-Ui_",
        "outputId": "81d70f55-4882-447c-d3f8-7cab32c24522"
      },
      "execution_count": null,
      "outputs": [
        {
          "output_type": "stream",
          "name": "stdout",
          "text": [
            "Collecting tensorflow-addons==0.16.1\n",
            "  Downloading tensorflow_addons-0.16.1-cp310-cp310-manylinux_2_12_x86_64.manylinux2010_x86_64.whl (1.1 MB)\n",
            "\u001b[2K     \u001b[90m━━━━━━━━━━━━━━━━━━━━━━━━━━━━━━━━━━━━━━━━\u001b[0m \u001b[32m1.1/1.1 MB\u001b[0m \u001b[31m9.3 MB/s\u001b[0m eta \u001b[36m0:00:00\u001b[0m\n",
            "\u001b[?25hCollecting typeguard>=2.7 (from tensorflow-addons==0.16.1)\n",
            "  Downloading typeguard-4.1.2-py3-none-any.whl (33 kB)\n",
            "Requirement already satisfied: typing-extensions>=4.7.0 in /usr/local/lib/python3.10/dist-packages (from typeguard>=2.7->tensorflow-addons==0.16.1) (4.7.1)\n",
            "Installing collected packages: typeguard, tensorflow-addons\n",
            "Successfully installed tensorflow-addons-0.16.1 typeguard-4.1.2\n"
          ]
        }
      ]
    },
    {
      "cell_type": "code",
      "source": [
        "import matplotlib.pyplot as plt\n",
        "import seaborn as sns\n",
        "import pandas as pd\n",
        "import numpy as np\n",
        "\n",
        "from sklearn.model_selection import train_test_split,GridSearchCV\n",
        "from sklearn.preprocessing import OneHotEncoder,MinMaxScaler,StandardScaler,LabelEncoder\n",
        "from sklearn.compose import ColumnTransformer,make_column_selector\n",
        "\n",
        "from sklearn.metrics import classification_report,roc_auc_score,ConfusionMatrixDisplay,f1_score,accuracy_score\n",
        "from sklearn.exceptions import NotFittedError\n",
        "\n",
        "import tensorflow as tf\n",
        "import tensorflow_addons as tfa\n",
        "\n",
        "sns.set_style('darkgrid')\n",
        "\n",
        "%matplotlib inline"
      ],
      "metadata": {
        "colab": {
          "base_uri": "https://localhost:8080/"
        },
        "id": "ioQMQcox-ngb",
        "outputId": "129bfe4d-1cdd-48ed-b542-f54a89e40cd4"
      },
      "execution_count": null,
      "outputs": [
        {
          "output_type": "stream",
          "name": "stderr",
          "text": [
            "/usr/local/lib/python3.10/dist-packages/tensorflow_addons/utils/ensure_tf_install.py:53: UserWarning: Tensorflow Addons supports using Python ops for all Tensorflow versions above or equal to 2.6.0 and strictly below 2.9.0 (nightly versions are not supported). \n",
            " The versions of TensorFlow you are currently using is 2.12.0 and is not supported. \n",
            "Some things might work, some things might not.\n",
            "If you were to encounter a bug, do not file an issue.\n",
            "If you want to make sure you're using a tested and supported configuration, either change the TensorFlow version or the TensorFlow Addons's version. \n",
            "You can find the compatibility matrix in TensorFlow Addon's readme:\n",
            "https://github.com/tensorflow/addons\n",
            "  warnings.warn(\n"
          ]
        }
      ]
    },
    {
      "cell_type": "code",
      "source": [
        "input_file='/content/dataset2.csv'\n",
        "df=pd.read_csv(input_file)\n",
        "df.head()"
      ],
      "metadata": {
        "colab": {
          "base_uri": "https://localhost:8080/",
          "height": 377
        },
        "id": "62YlXHt2_yeB",
        "outputId": "245eeb64-5d89-466c-b5a5-72517676aad6"
      },
      "execution_count": null,
      "outputs": [
        {
          "output_type": "execute_result",
          "data": {
            "text/plain": [
              "             activityID  heart_rate  hand temperature (°C)  \\\n",
              "0  transient activities       104.0                   30.0   \n",
              "1  transient activities       104.0                   30.0   \n",
              "2  transient activities       104.0                   30.0   \n",
              "3  transient activities       104.0                   30.0   \n",
              "4  transient activities       104.0                   30.0   \n",
              "\n",
              "   hand acceleration X ±16g  hand acceleration Y ±16g  \\\n",
              "0                   2.37223                   8.60074   \n",
              "1                   2.18837                   8.56560   \n",
              "2                   2.37357                   8.60107   \n",
              "3                   2.07473                   8.52853   \n",
              "4                   2.22936                   8.83122   \n",
              "\n",
              "   hand acceleration Z ±16g  hand gyroscope X  hand gyroscope Y  \\\n",
              "0                   3.51048         -0.092217          0.056812   \n",
              "1                   3.66179         -0.024413          0.047759   \n",
              "2                   3.54898         -0.057976          0.032574   \n",
              "3                   3.66021         -0.002352          0.032810   \n",
              "4                   3.70000          0.012269          0.018305   \n",
              "\n",
              "   hand gyroscope Z  hand magnetometer X  ...  ankle acceleration X ±16g  \\\n",
              "0         -0.015845              14.6806  ...                    9.65918   \n",
              "1          0.006474              14.8991  ...                    9.69370   \n",
              "2         -0.006988              14.2420  ...                    9.58944   \n",
              "3         -0.003747              14.8908  ...                    9.58814   \n",
              "4         -0.053325              15.5612  ...                    9.69771   \n",
              "\n",
              "   ankle acceleration Y ±16g  ankle acceleration Z ±16g  ankle gyroscope X  \\\n",
              "0                   -1.65569                  -0.099797           0.008300   \n",
              "1                   -1.57902                  -0.215687          -0.006577   \n",
              "2                   -1.73276                   0.092914           0.003014   \n",
              "3                   -1.77040                   0.054545           0.003175   \n",
              "4                   -1.65625                  -0.060809           0.012698   \n",
              "\n",
              "   ankle gyroscope Y  ankle gyroscope Z  ankle magnetometer X  \\\n",
              "0           0.009250          -0.017580              -61.1888   \n",
              "1          -0.004638           0.000368              -59.8479   \n",
              "2           0.000148           0.022495              -60.7361   \n",
              "3          -0.020301           0.011275              -60.4091   \n",
              "4          -0.014303          -0.002823              -61.5199   \n",
              "\n",
              "   ankle magnetometer Y  ankle magnetometer Z  PeopleId  \n",
              "0              -38.9599              -58.1438         1  \n",
              "1              -38.8919              -58.5253         1  \n",
              "2              -39.4138              -58.3999         1  \n",
              "3              -38.7635              -58.3956         1  \n",
              "4              -39.3879              -58.2694         1  \n",
              "\n",
              "[5 rows x 33 columns]"
            ],
            "text/html": [
              "\n",
              "  <div id=\"df-2fdf3dbb-1c17-4c1b-9f85-d17392b295c1\" class=\"colab-df-container\">\n",
              "    <div>\n",
              "<style scoped>\n",
              "    .dataframe tbody tr th:only-of-type {\n",
              "        vertical-align: middle;\n",
              "    }\n",
              "\n",
              "    .dataframe tbody tr th {\n",
              "        vertical-align: top;\n",
              "    }\n",
              "\n",
              "    .dataframe thead th {\n",
              "        text-align: right;\n",
              "    }\n",
              "</style>\n",
              "<table border=\"1\" class=\"dataframe\">\n",
              "  <thead>\n",
              "    <tr style=\"text-align: right;\">\n",
              "      <th></th>\n",
              "      <th>activityID</th>\n",
              "      <th>heart_rate</th>\n",
              "      <th>hand temperature (°C)</th>\n",
              "      <th>hand acceleration X ±16g</th>\n",
              "      <th>hand acceleration Y ±16g</th>\n",
              "      <th>hand acceleration Z ±16g</th>\n",
              "      <th>hand gyroscope X</th>\n",
              "      <th>hand gyroscope Y</th>\n",
              "      <th>hand gyroscope Z</th>\n",
              "      <th>hand magnetometer X</th>\n",
              "      <th>...</th>\n",
              "      <th>ankle acceleration X ±16g</th>\n",
              "      <th>ankle acceleration Y ±16g</th>\n",
              "      <th>ankle acceleration Z ±16g</th>\n",
              "      <th>ankle gyroscope X</th>\n",
              "      <th>ankle gyroscope Y</th>\n",
              "      <th>ankle gyroscope Z</th>\n",
              "      <th>ankle magnetometer X</th>\n",
              "      <th>ankle magnetometer Y</th>\n",
              "      <th>ankle magnetometer Z</th>\n",
              "      <th>PeopleId</th>\n",
              "    </tr>\n",
              "  </thead>\n",
              "  <tbody>\n",
              "    <tr>\n",
              "      <th>0</th>\n",
              "      <td>transient activities</td>\n",
              "      <td>104.0</td>\n",
              "      <td>30.0</td>\n",
              "      <td>2.37223</td>\n",
              "      <td>8.60074</td>\n",
              "      <td>3.51048</td>\n",
              "      <td>-0.092217</td>\n",
              "      <td>0.056812</td>\n",
              "      <td>-0.015845</td>\n",
              "      <td>14.6806</td>\n",
              "      <td>...</td>\n",
              "      <td>9.65918</td>\n",
              "      <td>-1.65569</td>\n",
              "      <td>-0.099797</td>\n",
              "      <td>0.008300</td>\n",
              "      <td>0.009250</td>\n",
              "      <td>-0.017580</td>\n",
              "      <td>-61.1888</td>\n",
              "      <td>-38.9599</td>\n",
              "      <td>-58.1438</td>\n",
              "      <td>1</td>\n",
              "    </tr>\n",
              "    <tr>\n",
              "      <th>1</th>\n",
              "      <td>transient activities</td>\n",
              "      <td>104.0</td>\n",
              "      <td>30.0</td>\n",
              "      <td>2.18837</td>\n",
              "      <td>8.56560</td>\n",
              "      <td>3.66179</td>\n",
              "      <td>-0.024413</td>\n",
              "      <td>0.047759</td>\n",
              "      <td>0.006474</td>\n",
              "      <td>14.8991</td>\n",
              "      <td>...</td>\n",
              "      <td>9.69370</td>\n",
              "      <td>-1.57902</td>\n",
              "      <td>-0.215687</td>\n",
              "      <td>-0.006577</td>\n",
              "      <td>-0.004638</td>\n",
              "      <td>0.000368</td>\n",
              "      <td>-59.8479</td>\n",
              "      <td>-38.8919</td>\n",
              "      <td>-58.5253</td>\n",
              "      <td>1</td>\n",
              "    </tr>\n",
              "    <tr>\n",
              "      <th>2</th>\n",
              "      <td>transient activities</td>\n",
              "      <td>104.0</td>\n",
              "      <td>30.0</td>\n",
              "      <td>2.37357</td>\n",
              "      <td>8.60107</td>\n",
              "      <td>3.54898</td>\n",
              "      <td>-0.057976</td>\n",
              "      <td>0.032574</td>\n",
              "      <td>-0.006988</td>\n",
              "      <td>14.2420</td>\n",
              "      <td>...</td>\n",
              "      <td>9.58944</td>\n",
              "      <td>-1.73276</td>\n",
              "      <td>0.092914</td>\n",
              "      <td>0.003014</td>\n",
              "      <td>0.000148</td>\n",
              "      <td>0.022495</td>\n",
              "      <td>-60.7361</td>\n",
              "      <td>-39.4138</td>\n",
              "      <td>-58.3999</td>\n",
              "      <td>1</td>\n",
              "    </tr>\n",
              "    <tr>\n",
              "      <th>3</th>\n",
              "      <td>transient activities</td>\n",
              "      <td>104.0</td>\n",
              "      <td>30.0</td>\n",
              "      <td>2.07473</td>\n",
              "      <td>8.52853</td>\n",
              "      <td>3.66021</td>\n",
              "      <td>-0.002352</td>\n",
              "      <td>0.032810</td>\n",
              "      <td>-0.003747</td>\n",
              "      <td>14.8908</td>\n",
              "      <td>...</td>\n",
              "      <td>9.58814</td>\n",
              "      <td>-1.77040</td>\n",
              "      <td>0.054545</td>\n",
              "      <td>0.003175</td>\n",
              "      <td>-0.020301</td>\n",
              "      <td>0.011275</td>\n",
              "      <td>-60.4091</td>\n",
              "      <td>-38.7635</td>\n",
              "      <td>-58.3956</td>\n",
              "      <td>1</td>\n",
              "    </tr>\n",
              "    <tr>\n",
              "      <th>4</th>\n",
              "      <td>transient activities</td>\n",
              "      <td>104.0</td>\n",
              "      <td>30.0</td>\n",
              "      <td>2.22936</td>\n",
              "      <td>8.83122</td>\n",
              "      <td>3.70000</td>\n",
              "      <td>0.012269</td>\n",
              "      <td>0.018305</td>\n",
              "      <td>-0.053325</td>\n",
              "      <td>15.5612</td>\n",
              "      <td>...</td>\n",
              "      <td>9.69771</td>\n",
              "      <td>-1.65625</td>\n",
              "      <td>-0.060809</td>\n",
              "      <td>0.012698</td>\n",
              "      <td>-0.014303</td>\n",
              "      <td>-0.002823</td>\n",
              "      <td>-61.5199</td>\n",
              "      <td>-39.3879</td>\n",
              "      <td>-58.2694</td>\n",
              "      <td>1</td>\n",
              "    </tr>\n",
              "  </tbody>\n",
              "</table>\n",
              "<p>5 rows × 33 columns</p>\n",
              "</div>\n",
              "    <div class=\"colab-df-buttons\">\n",
              "\n",
              "  <div class=\"colab-df-container\">\n",
              "    <button class=\"colab-df-convert\" onclick=\"convertToInteractive('df-2fdf3dbb-1c17-4c1b-9f85-d17392b295c1')\"\n",
              "            title=\"Convert this dataframe to an interactive table.\"\n",
              "            style=\"display:none;\">\n",
              "\n",
              "  <svg xmlns=\"http://www.w3.org/2000/svg\" height=\"24px\" viewBox=\"0 -960 960 960\">\n",
              "    <path d=\"M120-120v-720h720v720H120Zm60-500h600v-160H180v160Zm220 220h160v-160H400v160Zm0 220h160v-160H400v160ZM180-400h160v-160H180v160Zm440 0h160v-160H620v160ZM180-180h160v-160H180v160Zm440 0h160v-160H620v160Z\"/>\n",
              "  </svg>\n",
              "    </button>\n",
              "\n",
              "  <style>\n",
              "    .colab-df-container {\n",
              "      display:flex;\n",
              "      gap: 12px;\n",
              "    }\n",
              "\n",
              "    .colab-df-convert {\n",
              "      background-color: #E8F0FE;\n",
              "      border: none;\n",
              "      border-radius: 50%;\n",
              "      cursor: pointer;\n",
              "      display: none;\n",
              "      fill: #1967D2;\n",
              "      height: 32px;\n",
              "      padding: 0 0 0 0;\n",
              "      width: 32px;\n",
              "    }\n",
              "\n",
              "    .colab-df-convert:hover {\n",
              "      background-color: #E2EBFA;\n",
              "      box-shadow: 0px 1px 2px rgba(60, 64, 67, 0.3), 0px 1px 3px 1px rgba(60, 64, 67, 0.15);\n",
              "      fill: #174EA6;\n",
              "    }\n",
              "\n",
              "    .colab-df-buttons div {\n",
              "      margin-bottom: 4px;\n",
              "    }\n",
              "\n",
              "    [theme=dark] .colab-df-convert {\n",
              "      background-color: #3B4455;\n",
              "      fill: #D2E3FC;\n",
              "    }\n",
              "\n",
              "    [theme=dark] .colab-df-convert:hover {\n",
              "      background-color: #434B5C;\n",
              "      box-shadow: 0px 1px 3px 1px rgba(0, 0, 0, 0.15);\n",
              "      filter: drop-shadow(0px 1px 2px rgba(0, 0, 0, 0.3));\n",
              "      fill: #FFFFFF;\n",
              "    }\n",
              "  </style>\n",
              "\n",
              "    <script>\n",
              "      const buttonEl =\n",
              "        document.querySelector('#df-2fdf3dbb-1c17-4c1b-9f85-d17392b295c1 button.colab-df-convert');\n",
              "      buttonEl.style.display =\n",
              "        google.colab.kernel.accessAllowed ? 'block' : 'none';\n",
              "\n",
              "      async function convertToInteractive(key) {\n",
              "        const element = document.querySelector('#df-2fdf3dbb-1c17-4c1b-9f85-d17392b295c1');\n",
              "        const dataTable =\n",
              "          await google.colab.kernel.invokeFunction('convertToInteractive',\n",
              "                                                    [key], {});\n",
              "        if (!dataTable) return;\n",
              "\n",
              "        const docLinkHtml = 'Like what you see? Visit the ' +\n",
              "          '<a target=\"_blank\" href=https://colab.research.google.com/notebooks/data_table.ipynb>data table notebook</a>'\n",
              "          + ' to learn more about interactive tables.';\n",
              "        element.innerHTML = '';\n",
              "        dataTable['output_type'] = 'display_data';\n",
              "        await google.colab.output.renderOutput(dataTable, element);\n",
              "        const docLink = document.createElement('div');\n",
              "        docLink.innerHTML = docLinkHtml;\n",
              "        element.appendChild(docLink);\n",
              "      }\n",
              "    </script>\n",
              "  </div>\n",
              "\n",
              "\n",
              "<div id=\"df-51135f15-3923-40d8-a61b-c4bbfa30f49e\">\n",
              "  <button class=\"colab-df-quickchart\" onclick=\"quickchart('df-51135f15-3923-40d8-a61b-c4bbfa30f49e')\"\n",
              "            title=\"Suggest charts.\"\n",
              "            style=\"display:none;\">\n",
              "\n",
              "<svg xmlns=\"http://www.w3.org/2000/svg\" height=\"24px\"viewBox=\"0 0 24 24\"\n",
              "     width=\"24px\">\n",
              "    <g>\n",
              "        <path d=\"M19 3H5c-1.1 0-2 .9-2 2v14c0 1.1.9 2 2 2h14c1.1 0 2-.9 2-2V5c0-1.1-.9-2-2-2zM9 17H7v-7h2v7zm4 0h-2V7h2v10zm4 0h-2v-4h2v4z\"/>\n",
              "    </g>\n",
              "</svg>\n",
              "  </button>\n",
              "\n",
              "<style>\n",
              "  .colab-df-quickchart {\n",
              "    background-color: #E8F0FE;\n",
              "    border: none;\n",
              "    border-radius: 50%;\n",
              "    cursor: pointer;\n",
              "    display: none;\n",
              "    fill: #1967D2;\n",
              "    height: 32px;\n",
              "    padding: 0 0 0 0;\n",
              "    width: 32px;\n",
              "  }\n",
              "\n",
              "  .colab-df-quickchart:hover {\n",
              "    background-color: #E2EBFA;\n",
              "    box-shadow: 0px 1px 2px rgba(60, 64, 67, 0.3), 0px 1px 3px 1px rgba(60, 64, 67, 0.15);\n",
              "    fill: #174EA6;\n",
              "  }\n",
              "\n",
              "  [theme=dark] .colab-df-quickchart {\n",
              "    background-color: #3B4455;\n",
              "    fill: #D2E3FC;\n",
              "  }\n",
              "\n",
              "  [theme=dark] .colab-df-quickchart:hover {\n",
              "    background-color: #434B5C;\n",
              "    box-shadow: 0px 1px 3px 1px rgba(0, 0, 0, 0.15);\n",
              "    filter: drop-shadow(0px 1px 2px rgba(0, 0, 0, 0.3));\n",
              "    fill: #FFFFFF;\n",
              "  }\n",
              "</style>\n",
              "\n",
              "  <script>\n",
              "    async function quickchart(key) {\n",
              "      const charts = await google.colab.kernel.invokeFunction(\n",
              "          'suggestCharts', [key], {});\n",
              "    }\n",
              "    (() => {\n",
              "      let quickchartButtonEl =\n",
              "        document.querySelector('#df-51135f15-3923-40d8-a61b-c4bbfa30f49e button');\n",
              "      quickchartButtonEl.style.display =\n",
              "        google.colab.kernel.accessAllowed ? 'block' : 'none';\n",
              "    })();\n",
              "  </script>\n",
              "</div>\n",
              "    </div>\n",
              "  </div>\n"
            ]
          },
          "metadata": {},
          "execution_count": 7
        }
      ]
    },
    {
      "cell_type": "code",
      "source": [
        "target='activityID'\n",
        "target"
      ],
      "metadata": {
        "colab": {
          "base_uri": "https://localhost:8080/",
          "height": 36
        },
        "id": "zgifz4zoAU5v",
        "outputId": "75de0504-c507-4091-d315-cbd8423fee5c"
      },
      "execution_count": null,
      "outputs": [
        {
          "output_type": "execute_result",
          "data": {
            "text/plain": [
              "'activityID'"
            ],
            "application/vnd.google.colaboratory.intrinsic+json": {
              "type": "string"
            }
          },
          "metadata": {},
          "execution_count": 8
        }
      ]
    },
    {
      "cell_type": "code",
      "source": [
        "col_drop_list=[]\n",
        "col_drop_list.append('PeopleId')"
      ],
      "metadata": {
        "id": "89MxhJ_nAcNl"
      },
      "execution_count": null,
      "outputs": []
    },
    {
      "cell_type": "code",
      "source": [
        "df.describe()"
      ],
      "metadata": {
        "colab": {
          "base_uri": "https://localhost:8080/",
          "height": 384
        },
        "id": "E62WEZ9cAecN",
        "outputId": "cdf432a5-9e74-4a7b-decd-1f936f74fbf4"
      },
      "execution_count": null,
      "outputs": [
        {
          "output_type": "execute_result",
          "data": {
            "text/plain": [
              "         heart_rate  hand temperature (°C)  hand acceleration X ±16g  \\\n",
              "count  2.864010e+06           2.864056e+06              2.864056e+06   \n",
              "mean   1.097703e+02           3.267050e+01             -4.978788e+00   \n",
              "std    2.583130e+01           1.800771e+00              5.989589e+00   \n",
              "min    5.700000e+01           2.743750e+01             -1.453670e+02   \n",
              "25%    9.000000e+01           3.143750e+01             -9.038570e+00   \n",
              "50%    1.080000e+02           3.312500e+01             -5.818260e+00   \n",
              "75%    1.250000e+02           3.400000e+01             -8.020333e-01   \n",
              "max    2.020000e+02           3.550000e+01              6.285960e+01   \n",
              "\n",
              "       hand acceleration Y ±16g  hand acceleration Z ±16g  hand gyroscope X  \\\n",
              "count              2.864056e+06              2.864056e+06      2.864056e+06   \n",
              "mean               3.575225e+00              3.174904e+00     -3.881062e-03   \n",
              "std                6.260608e+00              3.828842e+00      1.298024e+00   \n",
              "min               -1.043010e+02             -1.014520e+02     -2.780440e+01   \n",
              "25%                1.294029e+00              9.735957e-01     -3.477418e-01   \n",
              "50%                3.568640e+00              2.961145e+00     -6.158165e-03   \n",
              "75%                6.588192e+00              5.996195e+00      3.030542e-01   \n",
              "max                1.556990e+02              1.569490e+02      2.641580e+01   \n",
              "\n",
              "       hand gyroscope Y  hand gyroscope Z  hand magnetometer X  \\\n",
              "count      2.864056e+06      2.864056e+06         2.864056e+06   \n",
              "mean       3.213164e-02     -6.985945e-03         2.125344e+01   \n",
              "std        8.842820e-01      1.453340e+00         2.402693e+01   \n",
              "min       -2.221270e+01     -1.669970e+01        -1.039410e+02   \n",
              "25%       -1.970635e-01     -3.028935e-01         5.345607e+00   \n",
              "50%        6.137100e-03     -5.385480e-03         2.428385e+01   \n",
              "75%        2.366580e-01      2.924292e-01         3.925000e+01   \n",
              "max        1.698350e+01      1.433840e+01         1.725900e+02   \n",
              "\n",
              "       hand magnetometer Y  ...  ankle acceleration X ±16g  \\\n",
              "count         2.864056e+06  ...               2.864056e+06   \n",
              "mean         -1.432121e+01  ...               9.547292e+00   \n",
              "std           2.409430e+01  ...               5.674253e+00   \n",
              "min          -2.000430e+02  ...              -1.550680e+02   \n",
              "25%          -2.951722e+01  ...               9.030297e+00   \n",
              "50%          -1.645440e+01  ...               9.573050e+00   \n",
              "75%           1.765928e+00  ...               1.000520e+01   \n",
              "max           1.211760e+02  ...               1.572320e+02   \n",
              "\n",
              "       ankle acceleration Y ±16g  ankle acceleration Z ±16g  \\\n",
              "count               2.864056e+06               2.864056e+06   \n",
              "mean               -1.251156e-01              -2.459224e+00   \n",
              "std                 6.816935e+00               3.523211e+00   \n",
              "min                -1.574430e+02              -1.589260e+02   \n",
              "25%                -1.756760e+00              -3.643863e+00   \n",
              "50%                -2.717770e-01              -2.357330e+00   \n",
              "75%                 1.253742e+00              -1.062060e+00   \n",
              "max                 1.572930e+02               1.588720e+02   \n",
              "\n",
              "       ankle gyroscope X  ankle gyroscope Y  ankle gyroscope Z  \\\n",
              "count       2.864056e+06       2.864056e+06       2.864056e+06   \n",
              "mean        8.153172e-03      -3.430653e-02       6.899129e-03   \n",
              "std         1.070971e+00       5.953280e-01       1.842663e+00   \n",
              "min        -2.399500e+01      -1.812690e+01      -1.401960e+01   \n",
              "25%        -1.528980e-01      -8.216113e-02      -3.097942e-01   \n",
              "50%         4.215460e-03      -4.229060e-03      -2.273390e-03   \n",
              "75%         9.399325e-02       8.283495e-02       6.281400e-02   \n",
              "max         1.742040e+01       1.358820e+01       1.652880e+01   \n",
              "\n",
              "       ankle magnetometer X  ankle magnetometer Y  ankle magnetometer Z  \\\n",
              "count          2.864056e+06          2.864056e+06          2.864056e+06   \n",
              "mean          -3.272317e+01          1.635810e+00          1.691927e+01   \n",
              "std            1.888977e+01          2.159774e+01          2.031745e+01   \n",
              "min           -1.728650e+02         -1.379080e+02         -1.092890e+02   \n",
              "25%           -4.290010e+01         -1.140080e+01          3.293130e+00   \n",
              "50%           -3.389515e+01          1.419830e+00          1.816660e+01   \n",
              "75%           -1.905550e+01          1.734970e+01          3.091070e+01   \n",
              "max            9.752550e+01          1.233060e+02          1.469000e+02   \n",
              "\n",
              "           PeopleId  \n",
              "count  2.864056e+06  \n",
              "mean   4.487160e+00  \n",
              "std    2.357792e+00  \n",
              "min    1.000000e+00  \n",
              "25%    2.000000e+00  \n",
              "50%    5.000000e+00  \n",
              "75%    7.000000e+00  \n",
              "max    8.000000e+00  \n",
              "\n",
              "[8 rows x 32 columns]"
            ],
            "text/html": [
              "\n",
              "  <div id=\"df-b6ce314c-d1a5-443b-9b6b-414312cc74f8\" class=\"colab-df-container\">\n",
              "    <div>\n",
              "<style scoped>\n",
              "    .dataframe tbody tr th:only-of-type {\n",
              "        vertical-align: middle;\n",
              "    }\n",
              "\n",
              "    .dataframe tbody tr th {\n",
              "        vertical-align: top;\n",
              "    }\n",
              "\n",
              "    .dataframe thead th {\n",
              "        text-align: right;\n",
              "    }\n",
              "</style>\n",
              "<table border=\"1\" class=\"dataframe\">\n",
              "  <thead>\n",
              "    <tr style=\"text-align: right;\">\n",
              "      <th></th>\n",
              "      <th>heart_rate</th>\n",
              "      <th>hand temperature (°C)</th>\n",
              "      <th>hand acceleration X ±16g</th>\n",
              "      <th>hand acceleration Y ±16g</th>\n",
              "      <th>hand acceleration Z ±16g</th>\n",
              "      <th>hand gyroscope X</th>\n",
              "      <th>hand gyroscope Y</th>\n",
              "      <th>hand gyroscope Z</th>\n",
              "      <th>hand magnetometer X</th>\n",
              "      <th>hand magnetometer Y</th>\n",
              "      <th>...</th>\n",
              "      <th>ankle acceleration X ±16g</th>\n",
              "      <th>ankle acceleration Y ±16g</th>\n",
              "      <th>ankle acceleration Z ±16g</th>\n",
              "      <th>ankle gyroscope X</th>\n",
              "      <th>ankle gyroscope Y</th>\n",
              "      <th>ankle gyroscope Z</th>\n",
              "      <th>ankle magnetometer X</th>\n",
              "      <th>ankle magnetometer Y</th>\n",
              "      <th>ankle magnetometer Z</th>\n",
              "      <th>PeopleId</th>\n",
              "    </tr>\n",
              "  </thead>\n",
              "  <tbody>\n",
              "    <tr>\n",
              "      <th>count</th>\n",
              "      <td>2.864010e+06</td>\n",
              "      <td>2.864056e+06</td>\n",
              "      <td>2.864056e+06</td>\n",
              "      <td>2.864056e+06</td>\n",
              "      <td>2.864056e+06</td>\n",
              "      <td>2.864056e+06</td>\n",
              "      <td>2.864056e+06</td>\n",
              "      <td>2.864056e+06</td>\n",
              "      <td>2.864056e+06</td>\n",
              "      <td>2.864056e+06</td>\n",
              "      <td>...</td>\n",
              "      <td>2.864056e+06</td>\n",
              "      <td>2.864056e+06</td>\n",
              "      <td>2.864056e+06</td>\n",
              "      <td>2.864056e+06</td>\n",
              "      <td>2.864056e+06</td>\n",
              "      <td>2.864056e+06</td>\n",
              "      <td>2.864056e+06</td>\n",
              "      <td>2.864056e+06</td>\n",
              "      <td>2.864056e+06</td>\n",
              "      <td>2.864056e+06</td>\n",
              "    </tr>\n",
              "    <tr>\n",
              "      <th>mean</th>\n",
              "      <td>1.097703e+02</td>\n",
              "      <td>3.267050e+01</td>\n",
              "      <td>-4.978788e+00</td>\n",
              "      <td>3.575225e+00</td>\n",
              "      <td>3.174904e+00</td>\n",
              "      <td>-3.881062e-03</td>\n",
              "      <td>3.213164e-02</td>\n",
              "      <td>-6.985945e-03</td>\n",
              "      <td>2.125344e+01</td>\n",
              "      <td>-1.432121e+01</td>\n",
              "      <td>...</td>\n",
              "      <td>9.547292e+00</td>\n",
              "      <td>-1.251156e-01</td>\n",
              "      <td>-2.459224e+00</td>\n",
              "      <td>8.153172e-03</td>\n",
              "      <td>-3.430653e-02</td>\n",
              "      <td>6.899129e-03</td>\n",
              "      <td>-3.272317e+01</td>\n",
              "      <td>1.635810e+00</td>\n",
              "      <td>1.691927e+01</td>\n",
              "      <td>4.487160e+00</td>\n",
              "    </tr>\n",
              "    <tr>\n",
              "      <th>std</th>\n",
              "      <td>2.583130e+01</td>\n",
              "      <td>1.800771e+00</td>\n",
              "      <td>5.989589e+00</td>\n",
              "      <td>6.260608e+00</td>\n",
              "      <td>3.828842e+00</td>\n",
              "      <td>1.298024e+00</td>\n",
              "      <td>8.842820e-01</td>\n",
              "      <td>1.453340e+00</td>\n",
              "      <td>2.402693e+01</td>\n",
              "      <td>2.409430e+01</td>\n",
              "      <td>...</td>\n",
              "      <td>5.674253e+00</td>\n",
              "      <td>6.816935e+00</td>\n",
              "      <td>3.523211e+00</td>\n",
              "      <td>1.070971e+00</td>\n",
              "      <td>5.953280e-01</td>\n",
              "      <td>1.842663e+00</td>\n",
              "      <td>1.888977e+01</td>\n",
              "      <td>2.159774e+01</td>\n",
              "      <td>2.031745e+01</td>\n",
              "      <td>2.357792e+00</td>\n",
              "    </tr>\n",
              "    <tr>\n",
              "      <th>min</th>\n",
              "      <td>5.700000e+01</td>\n",
              "      <td>2.743750e+01</td>\n",
              "      <td>-1.453670e+02</td>\n",
              "      <td>-1.043010e+02</td>\n",
              "      <td>-1.014520e+02</td>\n",
              "      <td>-2.780440e+01</td>\n",
              "      <td>-2.221270e+01</td>\n",
              "      <td>-1.669970e+01</td>\n",
              "      <td>-1.039410e+02</td>\n",
              "      <td>-2.000430e+02</td>\n",
              "      <td>...</td>\n",
              "      <td>-1.550680e+02</td>\n",
              "      <td>-1.574430e+02</td>\n",
              "      <td>-1.589260e+02</td>\n",
              "      <td>-2.399500e+01</td>\n",
              "      <td>-1.812690e+01</td>\n",
              "      <td>-1.401960e+01</td>\n",
              "      <td>-1.728650e+02</td>\n",
              "      <td>-1.379080e+02</td>\n",
              "      <td>-1.092890e+02</td>\n",
              "      <td>1.000000e+00</td>\n",
              "    </tr>\n",
              "    <tr>\n",
              "      <th>25%</th>\n",
              "      <td>9.000000e+01</td>\n",
              "      <td>3.143750e+01</td>\n",
              "      <td>-9.038570e+00</td>\n",
              "      <td>1.294029e+00</td>\n",
              "      <td>9.735957e-01</td>\n",
              "      <td>-3.477418e-01</td>\n",
              "      <td>-1.970635e-01</td>\n",
              "      <td>-3.028935e-01</td>\n",
              "      <td>5.345607e+00</td>\n",
              "      <td>-2.951722e+01</td>\n",
              "      <td>...</td>\n",
              "      <td>9.030297e+00</td>\n",
              "      <td>-1.756760e+00</td>\n",
              "      <td>-3.643863e+00</td>\n",
              "      <td>-1.528980e-01</td>\n",
              "      <td>-8.216113e-02</td>\n",
              "      <td>-3.097942e-01</td>\n",
              "      <td>-4.290010e+01</td>\n",
              "      <td>-1.140080e+01</td>\n",
              "      <td>3.293130e+00</td>\n",
              "      <td>2.000000e+00</td>\n",
              "    </tr>\n",
              "    <tr>\n",
              "      <th>50%</th>\n",
              "      <td>1.080000e+02</td>\n",
              "      <td>3.312500e+01</td>\n",
              "      <td>-5.818260e+00</td>\n",
              "      <td>3.568640e+00</td>\n",
              "      <td>2.961145e+00</td>\n",
              "      <td>-6.158165e-03</td>\n",
              "      <td>6.137100e-03</td>\n",
              "      <td>-5.385480e-03</td>\n",
              "      <td>2.428385e+01</td>\n",
              "      <td>-1.645440e+01</td>\n",
              "      <td>...</td>\n",
              "      <td>9.573050e+00</td>\n",
              "      <td>-2.717770e-01</td>\n",
              "      <td>-2.357330e+00</td>\n",
              "      <td>4.215460e-03</td>\n",
              "      <td>-4.229060e-03</td>\n",
              "      <td>-2.273390e-03</td>\n",
              "      <td>-3.389515e+01</td>\n",
              "      <td>1.419830e+00</td>\n",
              "      <td>1.816660e+01</td>\n",
              "      <td>5.000000e+00</td>\n",
              "    </tr>\n",
              "    <tr>\n",
              "      <th>75%</th>\n",
              "      <td>1.250000e+02</td>\n",
              "      <td>3.400000e+01</td>\n",
              "      <td>-8.020333e-01</td>\n",
              "      <td>6.588192e+00</td>\n",
              "      <td>5.996195e+00</td>\n",
              "      <td>3.030542e-01</td>\n",
              "      <td>2.366580e-01</td>\n",
              "      <td>2.924292e-01</td>\n",
              "      <td>3.925000e+01</td>\n",
              "      <td>1.765928e+00</td>\n",
              "      <td>...</td>\n",
              "      <td>1.000520e+01</td>\n",
              "      <td>1.253742e+00</td>\n",
              "      <td>-1.062060e+00</td>\n",
              "      <td>9.399325e-02</td>\n",
              "      <td>8.283495e-02</td>\n",
              "      <td>6.281400e-02</td>\n",
              "      <td>-1.905550e+01</td>\n",
              "      <td>1.734970e+01</td>\n",
              "      <td>3.091070e+01</td>\n",
              "      <td>7.000000e+00</td>\n",
              "    </tr>\n",
              "    <tr>\n",
              "      <th>max</th>\n",
              "      <td>2.020000e+02</td>\n",
              "      <td>3.550000e+01</td>\n",
              "      <td>6.285960e+01</td>\n",
              "      <td>1.556990e+02</td>\n",
              "      <td>1.569490e+02</td>\n",
              "      <td>2.641580e+01</td>\n",
              "      <td>1.698350e+01</td>\n",
              "      <td>1.433840e+01</td>\n",
              "      <td>1.725900e+02</td>\n",
              "      <td>1.211760e+02</td>\n",
              "      <td>...</td>\n",
              "      <td>1.572320e+02</td>\n",
              "      <td>1.572930e+02</td>\n",
              "      <td>1.588720e+02</td>\n",
              "      <td>1.742040e+01</td>\n",
              "      <td>1.358820e+01</td>\n",
              "      <td>1.652880e+01</td>\n",
              "      <td>9.752550e+01</td>\n",
              "      <td>1.233060e+02</td>\n",
              "      <td>1.469000e+02</td>\n",
              "      <td>8.000000e+00</td>\n",
              "    </tr>\n",
              "  </tbody>\n",
              "</table>\n",
              "<p>8 rows × 32 columns</p>\n",
              "</div>\n",
              "    <div class=\"colab-df-buttons\">\n",
              "\n",
              "  <div class=\"colab-df-container\">\n",
              "    <button class=\"colab-df-convert\" onclick=\"convertToInteractive('df-b6ce314c-d1a5-443b-9b6b-414312cc74f8')\"\n",
              "            title=\"Convert this dataframe to an interactive table.\"\n",
              "            style=\"display:none;\">\n",
              "\n",
              "  <svg xmlns=\"http://www.w3.org/2000/svg\" height=\"24px\" viewBox=\"0 -960 960 960\">\n",
              "    <path d=\"M120-120v-720h720v720H120Zm60-500h600v-160H180v160Zm220 220h160v-160H400v160Zm0 220h160v-160H400v160ZM180-400h160v-160H180v160Zm440 0h160v-160H620v160ZM180-180h160v-160H180v160Zm440 0h160v-160H620v160Z\"/>\n",
              "  </svg>\n",
              "    </button>\n",
              "\n",
              "  <style>\n",
              "    .colab-df-container {\n",
              "      display:flex;\n",
              "      gap: 12px;\n",
              "    }\n",
              "\n",
              "    .colab-df-convert {\n",
              "      background-color: #E8F0FE;\n",
              "      border: none;\n",
              "      border-radius: 50%;\n",
              "      cursor: pointer;\n",
              "      display: none;\n",
              "      fill: #1967D2;\n",
              "      height: 32px;\n",
              "      padding: 0 0 0 0;\n",
              "      width: 32px;\n",
              "    }\n",
              "\n",
              "    .colab-df-convert:hover {\n",
              "      background-color: #E2EBFA;\n",
              "      box-shadow: 0px 1px 2px rgba(60, 64, 67, 0.3), 0px 1px 3px 1px rgba(60, 64, 67, 0.15);\n",
              "      fill: #174EA6;\n",
              "    }\n",
              "\n",
              "    .colab-df-buttons div {\n",
              "      margin-bottom: 4px;\n",
              "    }\n",
              "\n",
              "    [theme=dark] .colab-df-convert {\n",
              "      background-color: #3B4455;\n",
              "      fill: #D2E3FC;\n",
              "    }\n",
              "\n",
              "    [theme=dark] .colab-df-convert:hover {\n",
              "      background-color: #434B5C;\n",
              "      box-shadow: 0px 1px 3px 1px rgba(0, 0, 0, 0.15);\n",
              "      filter: drop-shadow(0px 1px 2px rgba(0, 0, 0, 0.3));\n",
              "      fill: #FFFFFF;\n",
              "    }\n",
              "  </style>\n",
              "\n",
              "    <script>\n",
              "      const buttonEl =\n",
              "        document.querySelector('#df-b6ce314c-d1a5-443b-9b6b-414312cc74f8 button.colab-df-convert');\n",
              "      buttonEl.style.display =\n",
              "        google.colab.kernel.accessAllowed ? 'block' : 'none';\n",
              "\n",
              "      async function convertToInteractive(key) {\n",
              "        const element = document.querySelector('#df-b6ce314c-d1a5-443b-9b6b-414312cc74f8');\n",
              "        const dataTable =\n",
              "          await google.colab.kernel.invokeFunction('convertToInteractive',\n",
              "                                                    [key], {});\n",
              "        if (!dataTable) return;\n",
              "\n",
              "        const docLinkHtml = 'Like what you see? Visit the ' +\n",
              "          '<a target=\"_blank\" href=https://colab.research.google.com/notebooks/data_table.ipynb>data table notebook</a>'\n",
              "          + ' to learn more about interactive tables.';\n",
              "        element.innerHTML = '';\n",
              "        dataTable['output_type'] = 'display_data';\n",
              "        await google.colab.output.renderOutput(dataTable, element);\n",
              "        const docLink = document.createElement('div');\n",
              "        docLink.innerHTML = docLinkHtml;\n",
              "        element.appendChild(docLink);\n",
              "      }\n",
              "    </script>\n",
              "  </div>\n",
              "\n",
              "\n",
              "<div id=\"df-1e48f50c-ac0d-4a40-b344-e844a79d01cf\">\n",
              "  <button class=\"colab-df-quickchart\" onclick=\"quickchart('df-1e48f50c-ac0d-4a40-b344-e844a79d01cf')\"\n",
              "            title=\"Suggest charts.\"\n",
              "            style=\"display:none;\">\n",
              "\n",
              "<svg xmlns=\"http://www.w3.org/2000/svg\" height=\"24px\"viewBox=\"0 0 24 24\"\n",
              "     width=\"24px\">\n",
              "    <g>\n",
              "        <path d=\"M19 3H5c-1.1 0-2 .9-2 2v14c0 1.1.9 2 2 2h14c1.1 0 2-.9 2-2V5c0-1.1-.9-2-2-2zM9 17H7v-7h2v7zm4 0h-2V7h2v10zm4 0h-2v-4h2v4z\"/>\n",
              "    </g>\n",
              "</svg>\n",
              "  </button>\n",
              "\n",
              "<style>\n",
              "  .colab-df-quickchart {\n",
              "    background-color: #E8F0FE;\n",
              "    border: none;\n",
              "    border-radius: 50%;\n",
              "    cursor: pointer;\n",
              "    display: none;\n",
              "    fill: #1967D2;\n",
              "    height: 32px;\n",
              "    padding: 0 0 0 0;\n",
              "    width: 32px;\n",
              "  }\n",
              "\n",
              "  .colab-df-quickchart:hover {\n",
              "    background-color: #E2EBFA;\n",
              "    box-shadow: 0px 1px 2px rgba(60, 64, 67, 0.3), 0px 1px 3px 1px rgba(60, 64, 67, 0.15);\n",
              "    fill: #174EA6;\n",
              "  }\n",
              "\n",
              "  [theme=dark] .colab-df-quickchart {\n",
              "    background-color: #3B4455;\n",
              "    fill: #D2E3FC;\n",
              "  }\n",
              "\n",
              "  [theme=dark] .colab-df-quickchart:hover {\n",
              "    background-color: #434B5C;\n",
              "    box-shadow: 0px 1px 3px 1px rgba(0, 0, 0, 0.15);\n",
              "    filter: drop-shadow(0px 1px 2px rgba(0, 0, 0, 0.3));\n",
              "    fill: #FFFFFF;\n",
              "  }\n",
              "</style>\n",
              "\n",
              "  <script>\n",
              "    async function quickchart(key) {\n",
              "      const charts = await google.colab.kernel.invokeFunction(\n",
              "          'suggestCharts', [key], {});\n",
              "    }\n",
              "    (() => {\n",
              "      let quickchartButtonEl =\n",
              "        document.querySelector('#df-1e48f50c-ac0d-4a40-b344-e844a79d01cf button');\n",
              "      quickchartButtonEl.style.display =\n",
              "        google.colab.kernel.accessAllowed ? 'block' : 'none';\n",
              "    })();\n",
              "  </script>\n",
              "</div>\n",
              "    </div>\n",
              "  </div>\n"
            ]
          },
          "metadata": {},
          "execution_count": 10
        }
      ]
    },
    {
      "cell_type": "code",
      "source": [
        "df.info()"
      ],
      "metadata": {
        "colab": {
          "base_uri": "https://localhost:8080/"
        },
        "id": "teU64tjuAhJu",
        "outputId": "ef02b0ae-d7b8-43eb-ab47-d153c5fbfb6c"
      },
      "execution_count": null,
      "outputs": [
        {
          "output_type": "stream",
          "name": "stdout",
          "text": [
            "<class 'pandas.core.frame.DataFrame'>\n",
            "RangeIndex: 2864056 entries, 0 to 2864055\n",
            "Data columns (total 33 columns):\n",
            " #   Column                     Dtype  \n",
            "---  ------                     -----  \n",
            " 0   activityID                 object \n",
            " 1   heart_rate                 float64\n",
            " 2   hand temperature (°C)      float64\n",
            " 3   hand acceleration X ±16g   float64\n",
            " 4   hand acceleration Y ±16g   float64\n",
            " 5   hand acceleration Z ±16g   float64\n",
            " 6   hand gyroscope X           float64\n",
            " 7   hand gyroscope Y           float64\n",
            " 8   hand gyroscope Z           float64\n",
            " 9   hand magnetometer X        float64\n",
            " 10  hand magnetometer Y        float64\n",
            " 11  hand magnetometer Z        float64\n",
            " 12  chest temperature (°C)     float64\n",
            " 13  chest acceleration X ±16g  float64\n",
            " 14  chest acceleration Y ±16g  float64\n",
            " 15  chest acceleration Z ±16g  float64\n",
            " 16  chest gyroscope X          float64\n",
            " 17  chest gyroscope Y          float64\n",
            " 18  chest gyroscope Z          float64\n",
            " 19  chest magnetometer X       float64\n",
            " 20  chest magnetometer Y       float64\n",
            " 21  chest magnetometer Z       float64\n",
            " 22  ankle temperature (°C)     float64\n",
            " 23  ankle acceleration X ±16g  float64\n",
            " 24  ankle acceleration Y ±16g  float64\n",
            " 25  ankle acceleration Z ±16g  float64\n",
            " 26  ankle gyroscope X          float64\n",
            " 27  ankle gyroscope Y          float64\n",
            " 28  ankle gyroscope Z          float64\n",
            " 29  ankle magnetometer X       float64\n",
            " 30  ankle magnetometer Y       float64\n",
            " 31  ankle magnetometer Z       float64\n",
            " 32  PeopleId                   int64  \n",
            "dtypes: float64(31), int64(1), object(1)\n",
            "memory usage: 721.1+ MB\n"
          ]
        }
      ]
    },
    {
      "cell_type": "code",
      "source": [
        "df=df.dropna()"
      ],
      "metadata": {
        "id": "eV74PqW0AjHs"
      },
      "execution_count": null,
      "outputs": []
    },
    {
      "cell_type": "code",
      "source": [
        "df.shape"
      ],
      "metadata": {
        "colab": {
          "base_uri": "https://localhost:8080/"
        },
        "id": "jNtrXt9dAnlm",
        "outputId": "5d87f307-68c5-421b-8ee3-666f40edba9d"
      },
      "execution_count": null,
      "outputs": [
        {
          "output_type": "execute_result",
          "data": {
            "text/plain": [
              "(2864010, 33)"
            ]
          },
          "metadata": {},
          "execution_count": 13
        }
      ]
    },
    {
      "cell_type": "code",
      "source": [
        "def col_unique_val_check(df):\n",
        "    for i,col in enumerate(df.columns):\n",
        "        print(f\"{col:40} ----> {df[col].nunique():10} unique values   with dtype {str(df[col].dtype):10} at index {i}\")"
      ],
      "metadata": {
        "id": "0RR5ARrFArij"
      },
      "execution_count": null,
      "outputs": []
    },
    {
      "cell_type": "code",
      "source": [
        "df.columns"
      ],
      "metadata": {
        "colab": {
          "base_uri": "https://localhost:8080/"
        },
        "id": "_nQWbbK6Aws2",
        "outputId": "8cfc79a1-f63e-493d-e11a-92f35622965a"
      },
      "execution_count": null,
      "outputs": [
        {
          "output_type": "execute_result",
          "data": {
            "text/plain": [
              "Index(['activityID', 'heart_rate', 'hand temperature (°C)',\n",
              "       'hand acceleration X ±16g', 'hand acceleration Y ±16g',\n",
              "       'hand acceleration Z ±16g', 'hand gyroscope X', 'hand gyroscope Y',\n",
              "       'hand gyroscope Z', 'hand magnetometer X', 'hand magnetometer Y',\n",
              "       'hand magnetometer Z', 'chest temperature (°C)',\n",
              "       'chest acceleration X ±16g', 'chest acceleration Y ±16g',\n",
              "       'chest acceleration Z ±16g', 'chest gyroscope X', 'chest gyroscope Y',\n",
              "       'chest gyroscope Z', 'chest magnetometer X', 'chest magnetometer Y',\n",
              "       'chest magnetometer Z', 'ankle temperature (°C)',\n",
              "       'ankle acceleration X ±16g', 'ankle acceleration Y ±16g',\n",
              "       'ankle acceleration Z ±16g', 'ankle gyroscope X', 'ankle gyroscope Y',\n",
              "       'ankle gyroscope Z', 'ankle magnetometer X', 'ankle magnetometer Y',\n",
              "       'ankle magnetometer Z', 'PeopleId'],\n",
              "      dtype='object')"
            ]
          },
          "metadata": {},
          "execution_count": 15
        }
      ]
    },
    {
      "cell_type": "code",
      "source": [
        "col_unique_val_check(df)"
      ],
      "metadata": {
        "colab": {
          "base_uri": "https://localhost:8080/"
        },
        "id": "uOdv1Sg_Ay0L",
        "outputId": "4c59dc17-f82f-4a4e-f808-a74d3d26357a"
      },
      "execution_count": null,
      "outputs": [
        {
          "output_type": "stream",
          "name": "stdout",
          "text": [
            "activityID                               ---->         13 unique values   with dtype object     at index 0\n",
            "heart_rate                               ---->       6782 unique values   with dtype float64    at index 1\n",
            "hand temperature (°C)                    ---->        224 unique values   with dtype float64    at index 2\n",
            "hand acceleration X ±16g                 ---->    1254987 unique values   with dtype float64    at index 3\n",
            "hand acceleration Y ±16g                 ---->    1320654 unique values   with dtype float64    at index 4\n",
            "hand acceleration Z ±16g                 ---->    1288853 unique values   with dtype float64    at index 5\n",
            "hand gyroscope X                         ---->    1958946 unique values   with dtype float64    at index 6\n",
            "hand gyroscope Y                         ---->    1894563 unique values   with dtype float64    at index 7\n",
            "hand gyroscope Z                         ---->    1883121 unique values   with dtype float64    at index 8\n",
            "hand magnetometer X                      ---->    1161775 unique values   with dtype float64    at index 9\n",
            "hand magnetometer Y                      ---->    1228931 unique values   with dtype float64    at index 10\n",
            "hand magnetometer Z                      ---->    1139814 unique values   with dtype float64    at index 11\n",
            "chest temperature (°C)                   ---->        212 unique values   with dtype float64    at index 12\n",
            "chest acceleration X ±16g                ---->    1208708 unique values   with dtype float64    at index 13\n",
            "chest acceleration Y ±16g                ---->     751182 unique values   with dtype float64    at index 14\n",
            "chest acceleration Z ±16g                ---->    1230426 unique values   with dtype float64    at index 15\n",
            "chest gyroscope X                        ---->    1825444 unique values   with dtype float64    at index 16\n",
            "chest gyroscope Y                        ---->    1917962 unique values   with dtype float64    at index 17\n",
            "chest gyroscope Z                        ---->    1800980 unique values   with dtype float64    at index 18\n",
            "chest magnetometer X                     ---->    1411261 unique values   with dtype float64    at index 19\n",
            "chest magnetometer Y                     ---->     628590 unique values   with dtype float64    at index 20\n",
            "chest magnetometer Z                     ---->    1272248 unique values   with dtype float64    at index 21\n",
            "ankle temperature (°C)                   ---->        265 unique values   with dtype float64    at index 22\n",
            "ankle acceleration X ±16g                ---->     652759 unique values   with dtype float64    at index 23\n",
            "ankle acceleration Y ±16g                ---->    1179036 unique values   with dtype float64    at index 24\n",
            "ankle acceleration Z ±16g                ---->     976083 unique values   with dtype float64    at index 25\n",
            "ankle gyroscope X                        ---->    1830722 unique values   with dtype float64    at index 26\n",
            "ankle gyroscope Y                        ---->    1899919 unique values   with dtype float64    at index 27\n",
            "ankle gyroscope Z                        ---->    1963364 unique values   with dtype float64    at index 28\n",
            "ankle magnetometer X                     ---->     770585 unique values   with dtype float64    at index 29\n",
            "ankle magnetometer Y                     ---->    1298633 unique values   with dtype float64    at index 30\n",
            "ankle magnetometer Z                     ---->    1092628 unique values   with dtype float64    at index 31\n",
            "PeopleId                                 ---->          8 unique values   with dtype int64      at index 32\n"
          ]
        }
      ]
    },
    {
      "cell_type": "code",
      "source": [
        "df=df.drop(col_drop_list,axis=1)\n",
        "col_unique_val_check(df)"
      ],
      "metadata": {
        "colab": {
          "base_uri": "https://localhost:8080/"
        },
        "id": "70OerwX3A1BY",
        "outputId": "5252b4b8-52e1-4a0f-f982-21b477f9f8b4"
      },
      "execution_count": null,
      "outputs": [
        {
          "output_type": "stream",
          "name": "stdout",
          "text": [
            "activityID                               ---->         13 unique values   with dtype object     at index 0\n",
            "heart_rate                               ---->       6782 unique values   with dtype float64    at index 1\n",
            "hand temperature (°C)                    ---->        224 unique values   with dtype float64    at index 2\n",
            "hand acceleration X ±16g                 ---->    1254987 unique values   with dtype float64    at index 3\n",
            "hand acceleration Y ±16g                 ---->    1320654 unique values   with dtype float64    at index 4\n",
            "hand acceleration Z ±16g                 ---->    1288853 unique values   with dtype float64    at index 5\n",
            "hand gyroscope X                         ---->    1958946 unique values   with dtype float64    at index 6\n",
            "hand gyroscope Y                         ---->    1894563 unique values   with dtype float64    at index 7\n",
            "hand gyroscope Z                         ---->    1883121 unique values   with dtype float64    at index 8\n",
            "hand magnetometer X                      ---->    1161775 unique values   with dtype float64    at index 9\n",
            "hand magnetometer Y                      ---->    1228931 unique values   with dtype float64    at index 10\n",
            "hand magnetometer Z                      ---->    1139814 unique values   with dtype float64    at index 11\n",
            "chest temperature (°C)                   ---->        212 unique values   with dtype float64    at index 12\n",
            "chest acceleration X ±16g                ---->    1208708 unique values   with dtype float64    at index 13\n",
            "chest acceleration Y ±16g                ---->     751182 unique values   with dtype float64    at index 14\n",
            "chest acceleration Z ±16g                ---->    1230426 unique values   with dtype float64    at index 15\n",
            "chest gyroscope X                        ---->    1825444 unique values   with dtype float64    at index 16\n",
            "chest gyroscope Y                        ---->    1917962 unique values   with dtype float64    at index 17\n",
            "chest gyroscope Z                        ---->    1800980 unique values   with dtype float64    at index 18\n",
            "chest magnetometer X                     ---->    1411261 unique values   with dtype float64    at index 19\n",
            "chest magnetometer Y                     ---->     628590 unique values   with dtype float64    at index 20\n",
            "chest magnetometer Z                     ---->    1272248 unique values   with dtype float64    at index 21\n",
            "ankle temperature (°C)                   ---->        265 unique values   with dtype float64    at index 22\n",
            "ankle acceleration X ±16g                ---->     652759 unique values   with dtype float64    at index 23\n",
            "ankle acceleration Y ±16g                ---->    1179036 unique values   with dtype float64    at index 24\n",
            "ankle acceleration Z ±16g                ---->     976083 unique values   with dtype float64    at index 25\n",
            "ankle gyroscope X                        ---->    1830722 unique values   with dtype float64    at index 26\n",
            "ankle gyroscope Y                        ---->    1899919 unique values   with dtype float64    at index 27\n",
            "ankle gyroscope Z                        ---->    1963364 unique values   with dtype float64    at index 28\n",
            "ankle magnetometer X                     ---->     770585 unique values   with dtype float64    at index 29\n",
            "ankle magnetometer Y                     ---->    1298633 unique values   with dtype float64    at index 30\n",
            "ankle magnetometer Z                     ---->    1092628 unique values   with dtype float64    at index 31\n"
          ]
        }
      ]
    },
    {
      "cell_type": "code",
      "source": [
        "plt.figure(figsize=(18,4))\n",
        "sns.countplot(x=target,data=df,palette='tab10')\n",
        "plt.tight_layout()"
      ],
      "metadata": {
        "colab": {
          "base_uri": "https://localhost:8080/",
          "height": 190
        },
        "id": "-Bq_2jy-A8Hk",
        "outputId": "0f3cf714-506a-4c04-c9f2-9799d470142c"
      },
      "execution_count": null,
      "outputs": [
        {
          "output_type": "display_data",
          "data": {
            "text/plain": [
              "<Figure size 1800x400 with 1 Axes>"
            ],
            "image/png": "[encoded data removed]"
          },
          "metadata": {}
        }
      ]
    },
    {
      "cell_type": "code",
      "source": [
        "X=df.drop([target],axis=1)\n",
        "y=df[[target]]\n",
        "X.head(2)"
      ],
      "metadata": {
        "colab": {
          "base_uri": "https://localhost:8080/",
          "height": 196
        },
        "id": "Dr0SdAsLA_QV",
        "outputId": "1a6895f4-107c-4757-8583-68c0fbfb7ff2"
      },
      "execution_count": null,
      "outputs": [
        {
          "output_type": "execute_result",
          "data": {
            "text/plain": [
              "   heart_rate  hand temperature (°C)  hand acceleration X ±16g  \\\n",
              "0       104.0                   30.0                   2.37223   \n",
              "1       104.0                   30.0                   2.18837   \n",
              "\n",
              "   hand acceleration Y ±16g  hand acceleration Z ±16g  hand gyroscope X  \\\n",
              "0                   8.60074                   3.51048         -0.092217   \n",
              "1                   8.56560                   3.66179         -0.024413   \n",
              "\n",
              "   hand gyroscope Y  hand gyroscope Z  hand magnetometer X  \\\n",
              "0          0.056812         -0.015845              14.6806   \n",
              "1          0.047759          0.006474              14.8991   \n",
              "\n",
              "   hand magnetometer Y  ...  ankle temperature (°C)  \\\n",
              "0             -69.2128  ...                 30.3125   \n",
              "1             -69.2224  ...                 30.3125   \n",
              "\n",
              "   ankle acceleration X ±16g  ankle acceleration Y ±16g  \\\n",
              "0                    9.65918                   -1.65569   \n",
              "1                    9.69370                   -1.57902   \n",
              "\n",
              "   ankle acceleration Z ±16g  ankle gyroscope X  ankle gyroscope Y  \\\n",
              "0                  -0.099797           0.008300           0.009250   \n",
              "1                  -0.215687          -0.006577          -0.004638   \n",
              "\n",
              "   ankle gyroscope Z  ankle magnetometer X  ankle magnetometer Y  \\\n",
              "0          -0.017580              -61.1888              -38.9599   \n",
              "1           0.000368              -59.8479              -38.8919   \n",
              "\n",
              "   ankle magnetometer Z  \n",
              "0              -58.1438  \n",
              "1              -58.5253  \n",
              "\n",
              "[2 rows x 31 columns]"
            ],
            "text/html": [
              "\n",
              "  <div id=\"df-50d35274-57aa-41ea-b334-5bb65eeebdf0\" class=\"colab-df-container\">\n",
              "    <div>\n",
              "<style scoped>\n",
              "    .dataframe tbody tr th:only-of-type {\n",
              "        vertical-align: middle;\n",
              "    }\n",
              "\n",
              "    .dataframe tbody tr th {\n",
              "        vertical-align: top;\n",
              "    }\n",
              "\n",
              "    .dataframe thead th {\n",
              "        text-align: right;\n",
              "    }\n",
              "</style>\n",
              "<table border=\"1\" class=\"dataframe\">\n",
              "  <thead>\n",
              "    <tr style=\"text-align: right;\">\n",
              "      <th></th>\n",
              "      <th>heart_rate</th>\n",
              "      <th>hand temperature (°C)</th>\n",
              "      <th>hand acceleration X ±16g</th>\n",
              "      <th>hand acceleration Y ±16g</th>\n",
              "      <th>hand acceleration Z ±16g</th>\n",
              "      <th>hand gyroscope X</th>\n",
              "      <th>hand gyroscope Y</th>\n",
              "      <th>hand gyroscope Z</th>\n",
              "      <th>hand magnetometer X</th>\n",
              "      <th>hand magnetometer Y</th>\n",
              "      <th>...</th>\n",
              "      <th>ankle temperature (°C)</th>\n",
              "      <th>ankle acceleration X ±16g</th>\n",
              "      <th>ankle acceleration Y ±16g</th>\n",
              "      <th>ankle acceleration Z ±16g</th>\n",
              "      <th>ankle gyroscope X</th>\n",
              "      <th>ankle gyroscope Y</th>\n",
              "      <th>ankle gyroscope Z</th>\n",
              "      <th>ankle magnetometer X</th>\n",
              "      <th>ankle magnetometer Y</th>\n",
              "      <th>ankle magnetometer Z</th>\n",
              "    </tr>\n",
              "  </thead>\n",
              "  <tbody>\n",
              "    <tr>\n",
              "      <th>0</th>\n",
              "      <td>104.0</td>\n",
              "      <td>30.0</td>\n",
              "      <td>2.37223</td>\n",
              "      <td>8.60074</td>\n",
              "      <td>3.51048</td>\n",
              "      <td>-0.092217</td>\n",
              "      <td>0.056812</td>\n",
              "      <td>-0.015845</td>\n",
              "      <td>14.6806</td>\n",
              "      <td>-69.2128</td>\n",
              "      <td>...</td>\n",
              "      <td>30.3125</td>\n",
              "      <td>9.65918</td>\n",
              "      <td>-1.65569</td>\n",
              "      <td>-0.099797</td>\n",
              "      <td>0.008300</td>\n",
              "      <td>0.009250</td>\n",
              "      <td>-0.017580</td>\n",
              "      <td>-61.1888</td>\n",
              "      <td>-38.9599</td>\n",
              "      <td>-58.1438</td>\n",
              "    </tr>\n",
              "    <tr>\n",
              "      <th>1</th>\n",
              "      <td>104.0</td>\n",
              "      <td>30.0</td>\n",
              "      <td>2.18837</td>\n",
              "      <td>8.56560</td>\n",
              "      <td>3.66179</td>\n",
              "      <td>-0.024413</td>\n",
              "      <td>0.047759</td>\n",
              "      <td>0.006474</td>\n",
              "      <td>14.8991</td>\n",
              "      <td>-69.2224</td>\n",
              "      <td>...</td>\n",
              "      <td>30.3125</td>\n",
              "      <td>9.69370</td>\n",
              "      <td>-1.57902</td>\n",
              "      <td>-0.215687</td>\n",
              "      <td>-0.006577</td>\n",
              "      <td>-0.004638</td>\n",
              "      <td>0.000368</td>\n",
              "      <td>-59.8479</td>\n",
              "      <td>-38.8919</td>\n",
              "      <td>-58.5253</td>\n",
              "    </tr>\n",
              "  </tbody>\n",
              "</table>\n",
              "<p>2 rows × 31 columns</p>\n",
              "</div>\n",
              "    <div class=\"colab-df-buttons\">\n",
              "\n",
              "  <div class=\"colab-df-container\">\n",
              "    <button class=\"colab-df-convert\" onclick=\"convertToInteractive('df-50d35274-57aa-41ea-b334-5bb65eeebdf0')\"\n",
              "            title=\"Convert this dataframe to an interactive table.\"\n",
              "            style=\"display:none;\">\n",
              "\n",
              "  <svg xmlns=\"http://www.w3.org/2000/svg\" height=\"24px\" viewBox=\"0 -960 960 960\">\n",
              "    <path d=\"M120-120v-720h720v720H120Zm60-500h600v-160H180v160Zm220 220h160v-160H400v160Zm0 220h160v-160H400v160ZM180-400h160v-160H180v160Zm440 0h160v-160H620v160ZM180-180h160v-160H180v160Zm440 0h160v-160H620v160Z\"/>\n",
              "  </svg>\n",
              "    </button>\n",
              "\n",
              "  <style>\n",
              "    .colab-df-container {\n",
              "      display:flex;\n",
              "      gap: 12px;\n",
              "    }\n",
              "\n",
              "    .colab-df-convert {\n",
              "      background-color: #E8F0FE;\n",
              "      border: none;\n",
              "      border-radius: 50%;\n",
              "      cursor: pointer;\n",
              "      display: none;\n",
              "      fill: #1967D2;\n",
              "      height: 32px;\n",
              "      padding: 0 0 0 0;\n",
              "      width: 32px;\n",
              "    }\n",
              "\n",
              "    .colab-df-convert:hover {\n",
              "      background-color: #E2EBFA;\n",
              "      box-shadow: 0px 1px 2px rgba(60, 64, 67, 0.3), 0px 1px 3px 1px rgba(60, 64, 67, 0.15);\n",
              "      fill: #174EA6;\n",
              "    }\n",
              "\n",
              "    .colab-df-buttons div {\n",
              "      margin-bottom: 4px;\n",
              "    }\n",
              "\n",
              "    [theme=dark] .colab-df-convert {\n",
              "      background-color: #3B4455;\n",
              "      fill: #D2E3FC;\n",
              "    }\n",
              "\n",
              "    [theme=dark] .colab-df-convert:hover {\n",
              "      background-color: #434B5C;\n",
              "      box-shadow: 0px 1px 3px 1px rgba(0, 0, 0, 0.15);\n",
              "      filter: drop-shadow(0px 1px 2px rgba(0, 0, 0, 0.3));\n",
              "      fill: #FFFFFF;\n",
              "    }\n",
              "  </style>\n",
              "\n",
              "    <script>\n",
              "      const buttonEl =\n",
              "        document.querySelector('#df-50d35274-57aa-41ea-b334-5bb65eeebdf0 button.colab-df-convert');\n",
              "      buttonEl.style.display =\n",
              "        google.colab.kernel.accessAllowed ? 'block' : 'none';\n",
              "\n",
              "      async function convertToInteractive(key) {\n",
              "        const element = document.querySelector('#df-50d35274-57aa-41ea-b334-5bb65eeebdf0');\n",
              "        const dataTable =\n",
              "          await google.colab.kernel.invokeFunction('convertToInteractive',\n",
              "                                                    [key], {});\n",
              "        if (!dataTable) return;\n",
              "\n",
              "        const docLinkHtml = 'Like what you see? Visit the ' +\n",
              "          '<a target=\"_blank\" href=https://colab.research.google.com/notebooks/data_table.ipynb>data table notebook</a>'\n",
              "          + ' to learn more about interactive tables.';\n",
              "        element.innerHTML = '';\n",
              "        dataTable['output_type'] = 'display_data';\n",
              "        await google.colab.output.renderOutput(dataTable, element);\n",
              "        const docLink = document.createElement('div');\n",
              "        docLink.innerHTML = docLinkHtml;\n",
              "        element.appendChild(docLink);\n",
              "      }\n",
              "    </script>\n",
              "  </div>\n",
              "\n",
              "\n",
              "<div id=\"df-1c7319e8-aba6-4cc0-8d25-23f8ef312fb2\">\n",
              "  <button class=\"colab-df-quickchart\" onclick=\"quickchart('df-1c7319e8-aba6-4cc0-8d25-23f8ef312fb2')\"\n",
              "            title=\"Suggest charts.\"\n",
              "            style=\"display:none;\">\n",
              "\n",
              "<svg xmlns=\"http://www.w3.org/2000/svg\" height=\"24px\"viewBox=\"0 0 24 24\"\n",
              "     width=\"24px\">\n",
              "    <g>\n",
              "        <path d=\"M19 3H5c-1.1 0-2 .9-2 2v14c0 1.1.9 2 2 2h14c1.1 0 2-.9 2-2V5c0-1.1-.9-2-2-2zM9 17H7v-7h2v7zm4 0h-2V7h2v10zm4 0h-2v-4h2v4z\"/>\n",
              "    </g>\n",
              "</svg>\n",
              "  </button>\n",
              "\n",
              "<style>\n",
              "  .colab-df-quickchart {\n",
              "    background-color: #E8F0FE;\n",
              "    border: none;\n",
              "    border-radius: 50%;\n",
              "    cursor: pointer;\n",
              "    display: none;\n",
              "    fill: #1967D2;\n",
              "    height: 32px;\n",
              "    padding: 0 0 0 0;\n",
              "    width: 32px;\n",
              "  }\n",
              "\n",
              "  .colab-df-quickchart:hover {\n",
              "    background-color: #E2EBFA;\n",
              "    box-shadow: 0px 1px 2px rgba(60, 64, 67, 0.3), 0px 1px 3px 1px rgba(60, 64, 67, 0.15);\n",
              "    fill: #174EA6;\n",
              "  }\n",
              "\n",
              "  [theme=dark] .colab-df-quickchart {\n",
              "    background-color: #3B4455;\n",
              "    fill: #D2E3FC;\n",
              "  }\n",
              "\n",
              "  [theme=dark] .colab-df-quickchart:hover {\n",
              "    background-color: #434B5C;\n",
              "    box-shadow: 0px 1px 3px 1px rgba(0, 0, 0, 0.15);\n",
              "    filter: drop-shadow(0px 1px 2px rgba(0, 0, 0, 0.3));\n",
              "    fill: #FFFFFF;\n",
              "  }\n",
              "</style>\n",
              "\n",
              "  <script>\n",
              "    async function quickchart(key) {\n",
              "      const charts = await google.colab.kernel.invokeFunction(\n",
              "          'suggestCharts', [key], {});\n",
              "    }\n",
              "    (() => {\n",
              "      let quickchartButtonEl =\n",
              "        document.querySelector('#df-1c7319e8-aba6-4cc0-8d25-23f8ef312fb2 button');\n",
              "      quickchartButtonEl.style.display =\n",
              "        google.colab.kernel.accessAllowed ? 'block' : 'none';\n",
              "    })();\n",
              "  </script>\n",
              "</div>\n",
              "    </div>\n",
              "  </div>\n"
            ]
          },
          "metadata": {},
          "execution_count": 19
        }
      ]
    },
    {
      "cell_type": "code",
      "source": [
        "y.head(2)"
      ],
      "metadata": {
        "colab": {
          "base_uri": "https://localhost:8080/",
          "height": 112
        },
        "id": "QzR8fmGMBCzC",
        "outputId": "02329de5-9a04-489b-dd9b-feb87674a108"
      },
      "execution_count": null,
      "outputs": [
        {
          "output_type": "execute_result",
          "data": {
            "text/plain": [
              "             activityID\n",
              "0  transient activities\n",
              "1  transient activities"
            ],
            "text/html": [
              "\n",
              "  <div id=\"df-51145e93-cac3-4032-aab0-ee292cc45de0\" class=\"colab-df-container\">\n",
              "    <div>\n",
              "<style scoped>\n",
              "    .dataframe tbody tr th:only-of-type {\n",
              "        vertical-align: middle;\n",
              "    }\n",
              "\n",
              "    .dataframe tbody tr th {\n",
              "        vertical-align: top;\n",
              "    }\n",
              "\n",
              "    .dataframe thead th {\n",
              "        text-align: right;\n",
              "    }\n",
              "</style>\n",
              "<table border=\"1\" class=\"dataframe\">\n",
              "  <thead>\n",
              "    <tr style=\"text-align: right;\">\n",
              "      <th></th>\n",
              "      <th>activityID</th>\n",
              "    </tr>\n",
              "  </thead>\n",
              "  <tbody>\n",
              "    <tr>\n",
              "      <th>0</th>\n",
              "      <td>transient activities</td>\n",
              "    </tr>\n",
              "    <tr>\n",
              "      <th>1</th>\n",
              "      <td>transient activities</td>\n",
              "    </tr>\n",
              "  </tbody>\n",
              "</table>\n",
              "</div>\n",
              "    <div class=\"colab-df-buttons\">\n",
              "\n",
              "  <div class=\"colab-df-container\">\n",
              "    <button class=\"colab-df-convert\" onclick=\"convertToInteractive('df-51145e93-cac3-4032-aab0-ee292cc45de0')\"\n",
              "            title=\"Convert this dataframe to an interactive table.\"\n",
              "            style=\"display:none;\">\n",
              "\n",
              "  <svg xmlns=\"http://www.w3.org/2000/svg\" height=\"24px\" viewBox=\"0 -960 960 960\">\n",
              "    <path d=\"M120-120v-720h720v720H120Zm60-500h600v-160H180v160Zm220 220h160v-160H400v160Zm0 220h160v-160H400v160ZM180-400h160v-160H180v160Zm440 0h160v-160H620v160ZM180-180h160v-160H180v160Zm440 0h160v-160H620v160Z\"/>\n",
              "  </svg>\n",
              "    </button>\n",
              "\n",
              "  <style>\n",
              "    .colab-df-container {\n",
              "      display:flex;\n",
              "      gap: 12px;\n",
              "    }\n",
              "\n",
              "    .colab-df-convert {\n",
              "      background-color: #E8F0FE;\n",
              "      border: none;\n",
              "      border-radius: 50%;\n",
              "      cursor: pointer;\n",
              "      display: none;\n",
              "      fill: #1967D2;\n",
              "      height: 32px;\n",
              "      padding: 0 0 0 0;\n",
              "      width: 32px;\n",
              "    }\n",
              "\n",
              "    .colab-df-convert:hover {\n",
              "      background-color: #E2EBFA;\n",
              "      box-shadow: 0px 1px 2px rgba(60, 64, 67, 0.3), 0px 1px 3px 1px rgba(60, 64, 67, 0.15);\n",
              "      fill: #174EA6;\n",
              "    }\n",
              "\n",
              "    .colab-df-buttons div {\n",
              "      margin-bottom: 4px;\n",
              "    }\n",
              "\n",
              "    [theme=dark] .colab-df-convert {\n",
              "      background-color: #3B4455;\n",
              "      fill: #D2E3FC;\n",
              "    }\n",
              "\n",
              "    [theme=dark] .colab-df-convert:hover {\n",
              "      background-color: #434B5C;\n",
              "      box-shadow: 0px 1px 3px 1px rgba(0, 0, 0, 0.15);\n",
              "      filter: drop-shadow(0px 1px 2px rgba(0, 0, 0, 0.3));\n",
              "      fill: #FFFFFF;\n",
              "    }\n",
              "  </style>\n",
              "\n",
              "    <script>\n",
              "      const buttonEl =\n",
              "        document.querySelector('#df-51145e93-cac3-4032-aab0-ee292cc45de0 button.colab-df-convert');\n",
              "      buttonEl.style.display =\n",
              "        google.colab.kernel.accessAllowed ? 'block' : 'none';\n",
              "\n",
              "      async function convertToInteractive(key) {\n",
              "        const element = document.querySelector('#df-51145e93-cac3-4032-aab0-ee292cc45de0');\n",
              "        const dataTable =\n",
              "          await google.colab.kernel.invokeFunction('convertToInteractive',\n",
              "                                                    [key], {});\n",
              "        if (!dataTable) return;\n",
              "\n",
              "        const docLinkHtml = 'Like what you see? Visit the ' +\n",
              "          '<a target=\"_blank\" href=https://colab.research.google.com/notebooks/data_table.ipynb>data table notebook</a>'\n",
              "          + ' to learn more about interactive tables.';\n",
              "        element.innerHTML = '';\n",
              "        dataTable['output_type'] = 'display_data';\n",
              "        await google.colab.output.renderOutput(dataTable, element);\n",
              "        const docLink = document.createElement('div');\n",
              "        docLink.innerHTML = docLinkHtml;\n",
              "        element.appendChild(docLink);\n",
              "      }\n",
              "    </script>\n",
              "  </div>\n",
              "\n",
              "\n",
              "<div id=\"df-247e6a10-ca6b-44c4-aad3-c5e09bfac7db\">\n",
              "  <button class=\"colab-df-quickchart\" onclick=\"quickchart('df-247e6a10-ca6b-44c4-aad3-c5e09bfac7db')\"\n",
              "            title=\"Suggest charts.\"\n",
              "            style=\"display:none;\">\n",
              "\n",
              "<svg xmlns=\"http://www.w3.org/2000/svg\" height=\"24px\"viewBox=\"0 0 24 24\"\n",
              "     width=\"24px\">\n",
              "    <g>\n",
              "        <path d=\"M19 3H5c-1.1 0-2 .9-2 2v14c0 1.1.9 2 2 2h14c1.1 0 2-.9 2-2V5c0-1.1-.9-2-2-2zM9 17H7v-7h2v7zm4 0h-2V7h2v10zm4 0h-2v-4h2v4z\"/>\n",
              "    </g>\n",
              "</svg>\n",
              "  </button>\n",
              "\n",
              "<style>\n",
              "  .colab-df-quickchart {\n",
              "    background-color: #E8F0FE;\n",
              "    border: none;\n",
              "    border-radius: 50%;\n",
              "    cursor: pointer;\n",
              "    display: none;\n",
              "    fill: #1967D2;\n",
              "    height: 32px;\n",
              "    padding: 0 0 0 0;\n",
              "    width: 32px;\n",
              "  }\n",
              "\n",
              "  .colab-df-quickchart:hover {\n",
              "    background-color: #E2EBFA;\n",
              "    box-shadow: 0px 1px 2px rgba(60, 64, 67, 0.3), 0px 1px 3px 1px rgba(60, 64, 67, 0.15);\n",
              "    fill: #174EA6;\n",
              "  }\n",
              "\n",
              "  [theme=dark] .colab-df-quickchart {\n",
              "    background-color: #3B4455;\n",
              "    fill: #D2E3FC;\n",
              "  }\n",
              "\n",
              "  [theme=dark] .colab-df-quickchart:hover {\n",
              "    background-color: #434B5C;\n",
              "    box-shadow: 0px 1px 3px 1px rgba(0, 0, 0, 0.15);\n",
              "    filter: drop-shadow(0px 1px 2px rgba(0, 0, 0, 0.3));\n",
              "    fill: #FFFFFF;\n",
              "  }\n",
              "</style>\n",
              "\n",
              "  <script>\n",
              "    async function quickchart(key) {\n",
              "      const charts = await google.colab.kernel.invokeFunction(\n",
              "          'suggestCharts', [key], {});\n",
              "    }\n",
              "    (() => {\n",
              "      let quickchartButtonEl =\n",
              "        document.querySelector('#df-247e6a10-ca6b-44c4-aad3-c5e09bfac7db button');\n",
              "      quickchartButtonEl.style.display =\n",
              "        google.colab.kernel.accessAllowed ? 'block' : 'none';\n",
              "    })();\n",
              "  </script>\n",
              "</div>\n",
              "    </div>\n",
              "  </div>\n"
            ]
          },
          "metadata": {},
          "execution_count": 20
        }
      ]
    },
    {
      "cell_type": "code",
      "source": [
        "X_train,X_test,y_train,y_test=train_test_split(X,y,test_size=0.1,stratify=y,random_state=42)\n",
        "X_train,X_val,y_train,y_val=train_test_split(X_train,y_train,test_size=0.1,stratify=y_train,random_state=42)"
      ],
      "metadata": {
        "id": "6da7H_7XBFjq"
      },
      "execution_count": null,
      "outputs": []
    },
    {
      "cell_type": "code",
      "source": [
        "X_train.shape,y_train.shape"
      ],
      "metadata": {
        "colab": {
          "base_uri": "https://localhost:8080/"
        },
        "id": "XYe2YvbmBJDa",
        "outputId": "2fbcf9c4-4964-435f-9a4b-9f8f2e59fc3e"
      },
      "execution_count": null,
      "outputs": [
        {
          "output_type": "execute_result",
          "data": {
            "text/plain": [
              "((2319848, 31), (2319848, 1))"
            ]
          },
          "metadata": {},
          "execution_count": 22
        }
      ]
    },
    {
      "cell_type": "code",
      "source": [
        "X_test.shape,y_test.shape"
      ],
      "metadata": {
        "colab": {
          "base_uri": "https://localhost:8080/"
        },
        "id": "_fT0v_VKBOzO",
        "outputId": "d8e1d2ce-4e6c-4a3e-cbc3-6209208ed6db"
      },
      "execution_count": null,
      "outputs": [
        {
          "output_type": "execute_result",
          "data": {
            "text/plain": [
              "((286401, 31), (286401, 1))"
            ]
          },
          "metadata": {},
          "execution_count": 23
        }
      ]
    },
    {
      "cell_type": "code",
      "source": [
        "X_test.head(2)"
      ],
      "metadata": {
        "colab": {
          "base_uri": "https://localhost:8080/",
          "height": 196
        },
        "id": "ukHsXXRYBR8h",
        "outputId": "cad4570d-6293-48da-9c23-9ab26e859439"
      },
      "execution_count": null,
      "outputs": [
        {
          "output_type": "execute_result",
          "data": {
            "text/plain": [
              "        heart_rate  hand temperature (°C)  hand acceleration X ±16g  \\\n",
              "813592       154.0                28.8750                  -9.70798   \n",
              "469530        98.0                34.3125                  -3.12960   \n",
              "\n",
              "        hand acceleration Y ±16g  hand acceleration Z ±16g  hand gyroscope X  \\\n",
              "813592                  0.979840                   2.00818          0.341182   \n",
              "469530                  0.382488                   8.84402         -0.812113   \n",
              "\n",
              "        hand gyroscope Y  hand gyroscope Z  hand magnetometer X  \\\n",
              "813592         -0.667454          0.817909              6.03481   \n",
              "469530          0.973754          0.573396             -1.92769   \n",
              "\n",
              "        hand magnetometer Y  ...  ankle temperature (°C)  \\\n",
              "813592             -43.7597  ...                    30.5   \n",
              "469530             -19.2289  ...                    35.0   \n",
              "\n",
              "        ankle acceleration X ±16g  ankle acceleration Y ±16g  \\\n",
              "813592                    15.9860                   -2.59825   \n",
              "469530                     9.6535                   -1.68136   \n",
              "\n",
              "        ankle acceleration Z ±16g  ankle gyroscope X  ankle gyroscope Y  \\\n",
              "813592                   -1.10957          -0.913586           0.891266   \n",
              "469530                   -1.60469           0.116542          -0.004203   \n",
              "\n",
              "        ankle gyroscope Z  ankle magnetometer X  ankle magnetometer Y  \\\n",
              "813592          -2.437970              -64.6404              -20.9881   \n",
              "469530          -0.144248              -36.0674               14.0464   \n",
              "\n",
              "        ankle magnetometer Z  \n",
              "813592               19.3141  \n",
              "469530               38.7636  \n",
              "\n",
              "[2 rows x 31 columns]"
            ],
            "text/html": [
              "\n",
              "  <div id=\"df-5a042ae5-eebc-4fbb-ab54-d39f0b597a3f\" class=\"colab-df-container\">\n",
              "    <div>\n",
              "<style scoped>\n",
              "    .dataframe tbody tr th:only-of-type {\n",
              "        vertical-align: middle;\n",
              "    }\n",
              "\n",
              "    .dataframe tbody tr th {\n",
              "        vertical-align: top;\n",
              "    }\n",
              "\n",
              "    .dataframe thead th {\n",
              "        text-align: right;\n",
              "    }\n",
              "</style>\n",
              "<table border=\"1\" class=\"dataframe\">\n",
              "  <thead>\n",
              "    <tr style=\"text-align: right;\">\n",
              "      <th></th>\n",
              "      <th>heart_rate</th>\n",
              "      <th>hand temperature (°C)</th>\n",
              "      <th>hand acceleration X ±16g</th>\n",
              "      <th>hand acceleration Y ±16g</th>\n",
              "      <th>hand acceleration Z ±16g</th>\n",
              "      <th>hand gyroscope X</th>\n",
              "      <th>hand gyroscope Y</th>\n",
              "      <th>hand gyroscope Z</th>\n",
              "      <th>hand magnetometer X</th>\n",
              "      <th>hand magnetometer Y</th>\n",
              "      <th>...</th>\n",
              "      <th>ankle temperature (°C)</th>\n",
              "      <th>ankle acceleration X ±16g</th>\n",
              "      <th>ankle acceleration Y ±16g</th>\n",
              "      <th>ankle acceleration Z ±16g</th>\n",
              "      <th>ankle gyroscope X</th>\n",
              "      <th>ankle gyroscope Y</th>\n",
              "      <th>ankle gyroscope Z</th>\n",
              "      <th>ankle magnetometer X</th>\n",
              "      <th>ankle magnetometer Y</th>\n",
              "      <th>ankle magnetometer Z</th>\n",
              "    </tr>\n",
              "  </thead>\n",
              "  <tbody>\n",
              "    <tr>\n",
              "      <th>813592</th>\n",
              "      <td>154.0</td>\n",
              "      <td>28.8750</td>\n",
              "      <td>-9.70798</td>\n",
              "      <td>0.979840</td>\n",
              "      <td>2.00818</td>\n",
              "      <td>0.341182</td>\n",
              "      <td>-0.667454</td>\n",
              "      <td>0.817909</td>\n",
              "      <td>6.03481</td>\n",
              "      <td>-43.7597</td>\n",
              "      <td>...</td>\n",
              "      <td>30.5</td>\n",
              "      <td>15.9860</td>\n",
              "      <td>-2.59825</td>\n",
              "      <td>-1.10957</td>\n",
              "      <td>-0.913586</td>\n",
              "      <td>0.891266</td>\n",
              "      <td>-2.437970</td>\n",
              "      <td>-64.6404</td>\n",
              "      <td>-20.9881</td>\n",
              "      <td>19.3141</td>\n",
              "    </tr>\n",
              "    <tr>\n",
              "      <th>469530</th>\n",
              "      <td>98.0</td>\n",
              "      <td>34.3125</td>\n",
              "      <td>-3.12960</td>\n",
              "      <td>0.382488</td>\n",
              "      <td>8.84402</td>\n",
              "      <td>-0.812113</td>\n",
              "      <td>0.973754</td>\n",
              "      <td>0.573396</td>\n",
              "      <td>-1.92769</td>\n",
              "      <td>-19.2289</td>\n",
              "      <td>...</td>\n",
              "      <td>35.0</td>\n",
              "      <td>9.6535</td>\n",
              "      <td>-1.68136</td>\n",
              "      <td>-1.60469</td>\n",
              "      <td>0.116542</td>\n",
              "      <td>-0.004203</td>\n",
              "      <td>-0.144248</td>\n",
              "      <td>-36.0674</td>\n",
              "      <td>14.0464</td>\n",
              "      <td>38.7636</td>\n",
              "    </tr>\n",
              "  </tbody>\n",
              "</table>\n",
              "<p>2 rows × 31 columns</p>\n",
              "</div>\n",
              "    <div class=\"colab-df-buttons\">\n",
              "\n",
              "  <div class=\"colab-df-container\">\n",
              "    <button class=\"colab-df-convert\" onclick=\"convertToInteractive('df-5a042ae5-eebc-4fbb-ab54-d39f0b597a3f')\"\n",
              "            title=\"Convert this dataframe to an interactive table.\"\n",
              "            style=\"display:none;\">\n",
              "\n",
              "  <svg xmlns=\"http://www.w3.org/2000/svg\" height=\"24px\" viewBox=\"0 -960 960 960\">\n",
              "    <path d=\"M120-120v-720h720v720H120Zm60-500h600v-160H180v160Zm220 220h160v-160H400v160Zm0 220h160v-160H400v160ZM180-400h160v-160H180v160Zm440 0h160v-160H620v160ZM180-180h160v-160H180v160Zm440 0h160v-160H620v160Z\"/>\n",
              "  </svg>\n",
              "    </button>\n",
              "\n",
              "  <style>\n",
              "    .colab-df-container {\n",
              "      display:flex;\n",
              "      gap: 12px;\n",
              "    }\n",
              "\n",
              "    .colab-df-convert {\n",
              "      background-color: #E8F0FE;\n",
              "      border: none;\n",
              "      border-radius: 50%;\n",
              "      cursor: pointer;\n",
              "      display: none;\n",
              "      fill: #1967D2;\n",
              "      height: 32px;\n",
              "      padding: 0 0 0 0;\n",
              "      width: 32px;\n",
              "    }\n",
              "\n",
              "    .colab-df-convert:hover {\n",
              "      background-color: #E2EBFA;\n",
              "      box-shadow: 0px 1px 2px rgba(60, 64, 67, 0.3), 0px 1px 3px 1px rgba(60, 64, 67, 0.15);\n",
              "      fill: #174EA6;\n",
              "    }\n",
              "\n",
              "    .colab-df-buttons div {\n",
              "      margin-bottom: 4px;\n",
              "    }\n",
              "\n",
              "    [theme=dark] .colab-df-convert {\n",
              "      background-color: #3B4455;\n",
              "      fill: #D2E3FC;\n",
              "    }\n",
              "\n",
              "    [theme=dark] .colab-df-convert:hover {\n",
              "      background-color: #434B5C;\n",
              "      box-shadow: 0px 1px 3px 1px rgba(0, 0, 0, 0.15);\n",
              "      filter: drop-shadow(0px 1px 2px rgba(0, 0, 0, 0.3));\n",
              "      fill: #FFFFFF;\n",
              "    }\n",
              "  </style>\n",
              "\n",
              "    <script>\n",
              "      const buttonEl =\n",
              "        document.querySelector('#df-5a042ae5-eebc-4fbb-ab54-d39f0b597a3f button.colab-df-convert');\n",
              "      buttonEl.style.display =\n",
              "        google.colab.kernel.accessAllowed ? 'block' : 'none';\n",
              "\n",
              "      async function convertToInteractive(key) {\n",
              "        const element = document.querySelector('#df-5a042ae5-eebc-4fbb-ab54-d39f0b597a3f');\n",
              "        const dataTable =\n",
              "          await google.colab.kernel.invokeFunction('convertToInteractive',\n",
              "                                                    [key], {});\n",
              "        if (!dataTable) return;\n",
              "\n",
              "        const docLinkHtml = 'Like what you see? Visit the ' +\n",
              "          '<a target=\"_blank\" href=https://colab.research.google.com/notebooks/data_table.ipynb>data table notebook</a>'\n",
              "          + ' to learn more about interactive tables.';\n",
              "        element.innerHTML = '';\n",
              "        dataTable['output_type'] = 'display_data';\n",
              "        await google.colab.output.renderOutput(dataTable, element);\n",
              "        const docLink = document.createElement('div');\n",
              "        docLink.innerHTML = docLinkHtml;\n",
              "        element.appendChild(docLink);\n",
              "      }\n",
              "    </script>\n",
              "  </div>\n",
              "\n",
              "\n",
              "<div id=\"df-645ded04-0d2d-4671-88c2-e4cd42072ff7\">\n",
              "  <button class=\"colab-df-quickchart\" onclick=\"quickchart('df-645ded04-0d2d-4671-88c2-e4cd42072ff7')\"\n",
              "            title=\"Suggest charts.\"\n",
              "            style=\"display:none;\">\n",
              "\n",
              "<svg xmlns=\"http://www.w3.org/2000/svg\" height=\"24px\"viewBox=\"0 0 24 24\"\n",
              "     width=\"24px\">\n",
              "    <g>\n",
              "        <path d=\"M19 3H5c-1.1 0-2 .9-2 2v14c0 1.1.9 2 2 2h14c1.1 0 2-.9 2-2V5c0-1.1-.9-2-2-2zM9 17H7v-7h2v7zm4 0h-2V7h2v10zm4 0h-2v-4h2v4z\"/>\n",
              "    </g>\n",
              "</svg>\n",
              "  </button>\n",
              "\n",
              "<style>\n",
              "  .colab-df-quickchart {\n",
              "    background-color: #E8F0FE;\n",
              "    border: none;\n",
              "    border-radius: 50%;\n",
              "    cursor: pointer;\n",
              "    display: none;\n",
              "    fill: #1967D2;\n",
              "    height: 32px;\n",
              "    padding: 0 0 0 0;\n",
              "    width: 32px;\n",
              "  }\n",
              "\n",
              "  .colab-df-quickchart:hover {\n",
              "    background-color: #E2EBFA;\n",
              "    box-shadow: 0px 1px 2px rgba(60, 64, 67, 0.3), 0px 1px 3px 1px rgba(60, 64, 67, 0.15);\n",
              "    fill: #174EA6;\n",
              "  }\n",
              "\n",
              "  [theme=dark] .colab-df-quickchart {\n",
              "    background-color: #3B4455;\n",
              "    fill: #D2E3FC;\n",
              "  }\n",
              "\n",
              "  [theme=dark] .colab-df-quickchart:hover {\n",
              "    background-color: #434B5C;\n",
              "    box-shadow: 0px 1px 3px 1px rgba(0, 0, 0, 0.15);\n",
              "    filter: drop-shadow(0px 1px 2px rgba(0, 0, 0, 0.3));\n",
              "    fill: #FFFFFF;\n",
              "  }\n",
              "</style>\n",
              "\n",
              "  <script>\n",
              "    async function quickchart(key) {\n",
              "      const charts = await google.colab.kernel.invokeFunction(\n",
              "          'suggestCharts', [key], {});\n",
              "    }\n",
              "    (() => {\n",
              "      let quickchartButtonEl =\n",
              "        document.querySelector('#df-645ded04-0d2d-4671-88c2-e4cd42072ff7 button');\n",
              "      quickchartButtonEl.style.display =\n",
              "        google.colab.kernel.accessAllowed ? 'block' : 'none';\n",
              "    })();\n",
              "  </script>\n",
              "</div>\n",
              "    </div>\n",
              "  </div>\n"
            ]
          },
          "metadata": {},
          "execution_count": 24
        }
      ]
    },
    {
      "cell_type": "code",
      "source": [
        "y_test.head(2)"
      ],
      "metadata": {
        "colab": {
          "base_uri": "https://localhost:8080/",
          "height": 112
        },
        "id": "cuoSAx--BWQL",
        "outputId": "71e3692e-bfba-4fe2-b17b-7ccfd3221556"
      },
      "execution_count": null,
      "outputs": [
        {
          "output_type": "execute_result",
          "data": {
            "text/plain": [
              "                  activityID\n",
              "813592  transient activities\n",
              "469530               ironing"
            ],
            "text/html": [
              "\n",
              "  <div id=\"df-ed40416e-b749-4d92-b9df-359639e7759f\" class=\"colab-df-container\">\n",
              "    <div>\n",
              "<style scoped>\n",
              "    .dataframe tbody tr th:only-of-type {\n",
              "        vertical-align: middle;\n",
              "    }\n",
              "\n",
              "    .dataframe tbody tr th {\n",
              "        vertical-align: top;\n",
              "    }\n",
              "\n",
              "    .dataframe thead th {\n",
              "        text-align: right;\n",
              "    }\n",
              "</style>\n",
              "<table border=\"1\" class=\"dataframe\">\n",
              "  <thead>\n",
              "    <tr style=\"text-align: right;\">\n",
              "      <th></th>\n",
              "      <th>activityID</th>\n",
              "    </tr>\n",
              "  </thead>\n",
              "  <tbody>\n",
              "    <tr>\n",
              "      <th>813592</th>\n",
              "      <td>transient activities</td>\n",
              "    </tr>\n",
              "    <tr>\n",
              "      <th>469530</th>\n",
              "      <td>ironing</td>\n",
              "    </tr>\n",
              "  </tbody>\n",
              "</table>\n",
              "</div>\n",
              "    <div class=\"colab-df-buttons\">\n",
              "\n",
              "  <div class=\"colab-df-container\">\n",
              "    <button class=\"colab-df-convert\" onclick=\"convertToInteractive('df-ed40416e-b749-4d92-b9df-359639e7759f')\"\n",
              "            title=\"Convert this dataframe to an interactive table.\"\n",
              "            style=\"display:none;\">\n",
              "\n",
              "  <svg xmlns=\"http://www.w3.org/2000/svg\" height=\"24px\" viewBox=\"0 -960 960 960\">\n",
              "    <path d=\"M120-120v-720h720v720H120Zm60-500h600v-160H180v160Zm220 220h160v-160H400v160Zm0 220h160v-160H400v160ZM180-400h160v-160H180v160Zm440 0h160v-160H620v160ZM180-180h160v-160H180v160Zm440 0h160v-160H620v160Z\"/>\n",
              "  </svg>\n",
              "    </button>\n",
              "\n",
              "  <style>\n",
              "    .colab-df-container {\n",
              "      display:flex;\n",
              "      gap: 12px;\n",
              "    }\n",
              "\n",
              "    .colab-df-convert {\n",
              "      background-color: #E8F0FE;\n",
              "      border: none;\n",
              "      border-radius: 50%;\n",
              "      cursor: pointer;\n",
              "      display: none;\n",
              "      fill: #1967D2;\n",
              "      height: 32px;\n",
              "      padding: 0 0 0 0;\n",
              "      width: 32px;\n",
              "    }\n",
              "\n",
              "    .colab-df-convert:hover {\n",
              "      background-color: #E2EBFA;\n",
              "      box-shadow: 0px 1px 2px rgba(60, 64, 67, 0.3), 0px 1px 3px 1px rgba(60, 64, 67, 0.15);\n",
              "      fill: #174EA6;\n",
              "    }\n",
              "\n",
              "    .colab-df-buttons div {\n",
              "      margin-bottom: 4px;\n",
              "    }\n",
              "\n",
              "    [theme=dark] .colab-df-convert {\n",
              "      background-color: #3B4455;\n",
              "      fill: #D2E3FC;\n",
              "    }\n",
              "\n",
              "    [theme=dark] .colab-df-convert:hover {\n",
              "      background-color: #434B5C;\n",
              "      box-shadow: 0px 1px 3px 1px rgba(0, 0, 0, 0.15);\n",
              "      filter: drop-shadow(0px 1px 2px rgba(0, 0, 0, 0.3));\n",
              "      fill: #FFFFFF;\n",
              "    }\n",
              "  </style>\n",
              "\n",
              "    <script>\n",
              "      const buttonEl =\n",
              "        document.querySelector('#df-ed40416e-b749-4d92-b9df-359639e7759f button.colab-df-convert');\n",
              "      buttonEl.style.display =\n",
              "        google.colab.kernel.accessAllowed ? 'block' : 'none';\n",
              "\n",
              "      async function convertToInteractive(key) {\n",
              "        const element = document.querySelector('#df-ed40416e-b749-4d92-b9df-359639e7759f');\n",
              "        const dataTable =\n",
              "          await google.colab.kernel.invokeFunction('convertToInteractive',\n",
              "                                                    [key], {});\n",
              "        if (!dataTable) return;\n",
              "\n",
              "        const docLinkHtml = 'Like what you see? Visit the ' +\n",
              "          '<a target=\"_blank\" href=https://colab.research.google.com/notebooks/data_table.ipynb>data table notebook</a>'\n",
              "          + ' to learn more about interactive tables.';\n",
              "        element.innerHTML = '';\n",
              "        dataTable['output_type'] = 'display_data';\n",
              "        await google.colab.output.renderOutput(dataTable, element);\n",
              "        const docLink = document.createElement('div');\n",
              "        docLink.innerHTML = docLinkHtml;\n",
              "        element.appendChild(docLink);\n",
              "      }\n",
              "    </script>\n",
              "  </div>\n",
              "\n",
              "\n",
              "<div id=\"df-17eda02c-9ebf-4e9e-8718-2150122f74a9\">\n",
              "  <button class=\"colab-df-quickchart\" onclick=\"quickchart('df-17eda02c-9ebf-4e9e-8718-2150122f74a9')\"\n",
              "            title=\"Suggest charts.\"\n",
              "            style=\"display:none;\">\n",
              "\n",
              "<svg xmlns=\"http://www.w3.org/2000/svg\" height=\"24px\"viewBox=\"0 0 24 24\"\n",
              "     width=\"24px\">\n",
              "    <g>\n",
              "        <path d=\"M19 3H5c-1.1 0-2 .9-2 2v14c0 1.1.9 2 2 2h14c1.1 0 2-.9 2-2V5c0-1.1-.9-2-2-2zM9 17H7v-7h2v7zm4 0h-2V7h2v10zm4 0h-2v-4h2v4z\"/>\n",
              "    </g>\n",
              "</svg>\n",
              "  </button>\n",
              "\n",
              "<style>\n",
              "  .colab-df-quickchart {\n",
              "    background-color: #E8F0FE;\n",
              "    border: none;\n",
              "    border-radius: 50%;\n",
              "    cursor: pointer;\n",
              "    display: none;\n",
              "    fill: #1967D2;\n",
              "    height: 32px;\n",
              "    padding: 0 0 0 0;\n",
              "    width: 32px;\n",
              "  }\n",
              "\n",
              "  .colab-df-quickchart:hover {\n",
              "    background-color: #E2EBFA;\n",
              "    box-shadow: 0px 1px 2px rgba(60, 64, 67, 0.3), 0px 1px 3px 1px rgba(60, 64, 67, 0.15);\n",
              "    fill: #174EA6;\n",
              "  }\n",
              "\n",
              "  [theme=dark] .colab-df-quickchart {\n",
              "    background-color: #3B4455;\n",
              "    fill: #D2E3FC;\n",
              "  }\n",
              "\n",
              "  [theme=dark] .colab-df-quickchart:hover {\n",
              "    background-color: #434B5C;\n",
              "    box-shadow: 0px 1px 3px 1px rgba(0, 0, 0, 0.15);\n",
              "    filter: drop-shadow(0px 1px 2px rgba(0, 0, 0, 0.3));\n",
              "    fill: #FFFFFF;\n",
              "  }\n",
              "</style>\n",
              "\n",
              "  <script>\n",
              "    async function quickchart(key) {\n",
              "      const charts = await google.colab.kernel.invokeFunction(\n",
              "          'suggestCharts', [key], {});\n",
              "    }\n",
              "    (() => {\n",
              "      let quickchartButtonEl =\n",
              "        document.querySelector('#df-17eda02c-9ebf-4e9e-8718-2150122f74a9 button');\n",
              "      quickchartButtonEl.style.display =\n",
              "        google.colab.kernel.accessAllowed ? 'block' : 'none';\n",
              "    })();\n",
              "  </script>\n",
              "</div>\n",
              "    </div>\n",
              "  </div>\n"
            ]
          },
          "metadata": {},
          "execution_count": 25
        }
      ]
    },
    {
      "cell_type": "code",
      "source": [
        "X_train.columns,y_train.columns"
      ],
      "metadata": {
        "colab": {
          "base_uri": "https://localhost:8080/"
        },
        "id": "4jsj1R8CBaB_",
        "outputId": "c4c2c592-27d3-4234-83a7-1c766c356b16"
      },
      "execution_count": null,
      "outputs": [
        {
          "output_type": "execute_result",
          "data": {
            "text/plain": [
              "(Index(['heart_rate', 'hand temperature (°C)', 'hand acceleration X ±16g',\n",
              "        'hand acceleration Y ±16g', 'hand acceleration Z ±16g',\n",
              "        'hand gyroscope X', 'hand gyroscope Y', 'hand gyroscope Z',\n",
              "        'hand magnetometer X', 'hand magnetometer Y', 'hand magnetometer Z',\n",
              "        'chest temperature (°C)', 'chest acceleration X ±16g',\n",
              "        'chest acceleration Y ±16g', 'chest acceleration Z ±16g',\n",
              "        'chest gyroscope X', 'chest gyroscope Y', 'chest gyroscope Z',\n",
              "        'chest magnetometer X', 'chest magnetometer Y', 'chest magnetometer Z',\n",
              "        'ankle temperature (°C)', 'ankle acceleration X ±16g',\n",
              "        'ankle acceleration Y ±16g', 'ankle acceleration Z ±16g',\n",
              "        'ankle gyroscope X', 'ankle gyroscope Y', 'ankle gyroscope Z',\n",
              "        'ankle magnetometer X', 'ankle magnetometer Y', 'ankle magnetometer Z'],\n",
              "       dtype='object'),\n",
              " Index(['activityID'], dtype='object'))"
            ]
          },
          "metadata": {},
          "execution_count": 26
        }
      ]
    },
    {
      "cell_type": "code",
      "source": [
        "col_unique_val_check(X_train)"
      ],
      "metadata": {
        "colab": {
          "base_uri": "https://localhost:8080/"
        },
        "id": "ClqMFHvIBdJv",
        "outputId": "18ddcafd-612e-46b6-954f-fedaf4391f19"
      },
      "execution_count": null,
      "outputs": [
        {
          "output_type": "stream",
          "name": "stdout",
          "text": [
            "heart_rate                               ---->       6198 unique values   with dtype float64    at index 0\n",
            "hand temperature (°C)                    ---->        207 unique values   with dtype float64    at index 1\n",
            "hand acceleration X ±16g                 ---->    1115946 unique values   with dtype float64    at index 2\n",
            "hand acceleration Y ±16g                 ---->    1178244 unique values   with dtype float64    at index 3\n",
            "hand acceleration Z ±16g                 ---->    1144822 unique values   with dtype float64    at index 4\n",
            "hand gyroscope X                         ---->    1687344 unique values   with dtype float64    at index 5\n",
            "hand gyroscope Y                         ---->    1640539 unique values   with dtype float64    at index 6\n",
            "hand gyroscope Z                         ---->    1628435 unique values   with dtype float64    at index 7\n",
            "hand magnetometer X                      ---->    1039973 unique values   with dtype float64    at index 8\n",
            "hand magnetometer Y                      ---->    1092459 unique values   with dtype float64    at index 9\n",
            "hand magnetometer Z                      ---->    1014874 unique values   with dtype float64    at index 10\n",
            "chest temperature (°C)                   ---->        201 unique values   with dtype float64    at index 11\n",
            "chest acceleration X ±16g                ---->    1065751 unique values   with dtype float64    at index 12\n",
            "chest acceleration Y ±16g                ---->     678967 unique values   with dtype float64    at index 13\n",
            "chest acceleration Z ±16g                ---->    1090795 unique values   with dtype float64    at index 14\n",
            "chest gyroscope X                        ---->    1585957 unique values   with dtype float64    at index 15\n",
            "chest gyroscope Y                        ---->    1658833 unique values   with dtype float64    at index 16\n",
            "chest gyroscope Z                        ---->    1566911 unique values   with dtype float64    at index 17\n",
            "chest magnetometer X                     ---->    1246851 unique values   with dtype float64    at index 18\n",
            "chest magnetometer Y                     ---->     584567 unique values   with dtype float64    at index 19\n",
            "chest magnetometer Z                     ---->    1127961 unique values   with dtype float64    at index 20\n",
            "ankle temperature (°C)                   ---->        235 unique values   with dtype float64    at index 21\n",
            "ankle acceleration X ±16g                ---->     584905 unique values   with dtype float64    at index 22\n",
            "ankle acceleration Y ±16g                ---->    1028545 unique values   with dtype float64    at index 23\n",
            "ankle acceleration Z ±16g                ---->     862278 unique values   with dtype float64    at index 24\n",
            "ankle gyroscope X                        ---->    1583656 unique values   with dtype float64    at index 25\n",
            "ankle gyroscope Y                        ---->    1645224 unique values   with dtype float64    at index 26\n",
            "ankle gyroscope Z                        ---->    1689720 unique values   with dtype float64    at index 27\n",
            "ankle magnetometer X                     ---->     710383 unique values   with dtype float64    at index 28\n",
            "ankle magnetometer Y                     ---->    1151980 unique values   with dtype float64    at index 29\n",
            "ankle magnetometer Z                     ---->     969527 unique values   with dtype float64    at index 30\n"
          ]
        }
      ]
    },
    {
      "cell_type": "code",
      "source": [
        "X_train.info()"
      ],
      "metadata": {
        "colab": {
          "base_uri": "https://localhost:8080/"
        },
        "id": "SsNC0C8OBgd6",
        "outputId": "47ba9d62-d154-4cb5-8961-da72b853ffe0"
      },
      "execution_count": null,
      "outputs": [
        {
          "output_type": "stream",
          "name": "stdout",
          "text": [
            "<class 'pandas.core.frame.DataFrame'>\n",
            "Int64Index: 2319848 entries, 2795092 to 667562\n",
            "Data columns (total 31 columns):\n",
            " #   Column                     Dtype  \n",
            "---  ------                     -----  \n",
            " 0   heart_rate                 float64\n",
            " 1   hand temperature (°C)      float64\n",
            " 2   hand acceleration X ±16g   float64\n",
            " 3   hand acceleration Y ±16g   float64\n",
            " 4   hand acceleration Z ±16g   float64\n",
            " 5   hand gyroscope X           float64\n",
            " 6   hand gyroscope Y           float64\n",
            " 7   hand gyroscope Z           float64\n",
            " 8   hand magnetometer X        float64\n",
            " 9   hand magnetometer Y        float64\n",
            " 10  hand magnetometer Z        float64\n",
            " 11  chest temperature (°C)     float64\n",
            " 12  chest acceleration X ±16g  float64\n",
            " 13  chest acceleration Y ±16g  float64\n",
            " 14  chest acceleration Z ±16g  float64\n",
            " 15  chest gyroscope X          float64\n",
            " 16  chest gyroscope Y          float64\n",
            " 17  chest gyroscope Z          float64\n",
            " 18  chest magnetometer X       float64\n",
            " 19  chest magnetometer Y       float64\n",
            " 20  chest magnetometer Z       float64\n",
            " 21  ankle temperature (°C)     float64\n",
            " 22  ankle acceleration X ±16g  float64\n",
            " 23  ankle acceleration Y ±16g  float64\n",
            " 24  ankle acceleration Z ±16g  float64\n",
            " 25  ankle gyroscope X          float64\n",
            " 26  ankle gyroscope Y          float64\n",
            " 27  ankle gyroscope Z          float64\n",
            " 28  ankle magnetometer X       float64\n",
            " 29  ankle magnetometer Y       float64\n",
            " 30  ankle magnetometer Z       float64\n",
            "dtypes: float64(31)\n",
            "memory usage: 566.4 MB\n"
          ]
        }
      ]
    },
    {
      "cell_type": "code",
      "source": [
        "num_col=X_train.columns.values\n",
        "num_col"
      ],
      "metadata": {
        "colab": {
          "base_uri": "https://localhost:8080/"
        },
        "id": "jxd6SgkMBjND",
        "outputId": "6d73e4ae-c522-4824-a050-9bac1d9af6fc"
      },
      "execution_count": null,
      "outputs": [
        {
          "output_type": "execute_result",
          "data": {
            "text/plain": [
              "array(['heart_rate', 'hand temperature (°C)', 'hand acceleration X ±16g',\n",
              "       'hand acceleration Y ±16g', 'hand acceleration Z ±16g',\n",
              "       'hand gyroscope X', 'hand gyroscope Y', 'hand gyroscope Z',\n",
              "       'hand magnetometer X', 'hand magnetometer Y',\n",
              "       'hand magnetometer Z', 'chest temperature (°C)',\n",
              "       'chest acceleration X ±16g', 'chest acceleration Y ±16g',\n",
              "       'chest acceleration Z ±16g', 'chest gyroscope X',\n",
              "       'chest gyroscope Y', 'chest gyroscope Z', 'chest magnetometer X',\n",
              "       'chest magnetometer Y', 'chest magnetometer Z',\n",
              "       'ankle temperature (°C)', 'ankle acceleration X ±16g',\n",
              "       'ankle acceleration Y ±16g', 'ankle acceleration Z ±16g',\n",
              "       'ankle gyroscope X', 'ankle gyroscope Y', 'ankle gyroscope Z',\n",
              "       'ankle magnetometer X', 'ankle magnetometer Y',\n",
              "       'ankle magnetometer Z'], dtype=object)"
            ]
          },
          "metadata": {},
          "execution_count": 29
        }
      ]
    },
    {
      "cell_type": "code",
      "source": [
        "y_oh=OneHotEncoder()\n",
        "l_eh=LabelEncoder()\n",
        "\n",
        "oh=OneHotEncoder(handle_unknown='ignore')\n",
        "ms,ss=MinMaxScaler(),StandardScaler()\n",
        "\n",
        "ct=ColumnTransformer([\n",
        "                        ('num_encoder',ss,num_col) ],\n",
        "                        remainder='passthrough',n_jobs=-1)\n",
        "\n",
        "ct"
      ],
      "metadata": {
        "colab": {
          "base_uri": "https://localhost:8080/",
          "height": 117
        },
        "id": "vwIinLUbBl6o",
        "outputId": "a7e4bc71-bfd6-4f96-9368-8c131a34ce1e"
      },
      "execution_count": null,
      "outputs": [
        {
          "output_type": "execute_result",
          "data": {
            "text/plain": [
              "ColumnTransformer(n_jobs=-1, remainder='passthrough',\n",
              "                  transformers=[('num_encoder', StandardScaler(),\n",
              "                                 array(['heart_rate', 'hand temperature (°C)', 'hand acceleration X ±16g',\n",
              "       'hand acceleration Y ±16g', 'hand acceleration Z ±16g',\n",
              "       'hand gyroscope X', 'hand gyroscope Y', 'hand gyroscope Z',\n",
              "       'hand magnetometer X', 'hand magnetometer Y',\n",
              "       'hand magnetometer Z', 'chest temperature (°C)',\n",
              "       'che...\n",
              "       'chest acceleration Z ±16g', 'chest gyroscope X',\n",
              "       'chest gyroscope Y', 'chest gyroscope Z', 'chest magnetometer X',\n",
              "       'chest magnetometer Y', 'chest magnetometer Z',\n",
              "       'ankle temperature (°C)', 'ankle acceleration X ±16g',\n",
              "       'ankle acceleration Y ±16g', 'ankle acceleration Z ±16g',\n",
              "       'ankle gyroscope X', 'ankle gyroscope Y', 'ankle gyroscope Z',\n",
              "       'ankle magnetometer X', 'ankle magnetometer Y',\n",
              "       'ankle magnetometer Z'], dtype=object))])"
            ],
            "text/html": [
              "<style>#sk-container-id-1 {color: black;background-color: white;}#sk-container-id-1 pre{padding: 0;}#sk-container-id-1 div.sk-toggleable {background-color: white;}#sk-container-id-1 label.sk-toggleable__label {cursor: pointer;display: block;width: 100%;margin-bottom: 0;padding: 0.3em;box-sizing: border-box;text-align: center;}#sk-container-id-1 label.sk-toggleable__label-arrow:before {content: \"▸\";float: left;margin-right: 0.25em;color: #696969;}#sk-container-id-1 label.sk-toggleable__label-arrow:hover:before {color: black;}#sk-container-id-1 div.sk-estimator:hover label.sk-toggleable__label-arrow:before {color: black;}#sk-container-id-1 div.sk-toggleable__content {max-height: 0;max-width: 0;overflow: hidden;text-align: left;background-color: #f0f8ff;}#sk-container-id-1 div.sk-toggleable__content pre {margin: 0.2em;color: black;border-radius: 0.25em;background-color: #f0f8ff;}#sk-container-id-1 input.sk-toggleable__control:checked~div.sk-toggleable__content {max-height: 200px;max-width: 100%;overflow: auto;}#sk-container-id-1 input.sk-toggleable__control:checked~label.sk-toggleable__label-arrow:before {content: \"▾\";}#sk-container-id-1 div.sk-estimator input.sk-toggleable__control:checked~label.sk-toggleable__label {background-color: #d4ebff;}#sk-container-id-1 div.sk-label input.sk-toggleable__control:checked~label.sk-toggleable__label {background-color: #d4ebff;}#sk-container-id-1 input.sk-hidden--visually {border: 0;clip: rect(1px 1px 1px 1px);clip: rect(1px, 1px, 1px, 1px);height: 1px;margin: -1px;overflow: hidden;padding: 0;position: absolute;width: 1px;}#sk-container-id-1 div.sk-estimator {font-family: monospace;background-color: #f0f8ff;border: 1px dotted black;border-radius: 0.25em;box-sizing: border-box;margin-bottom: 0.5em;}#sk-container-id-1 div.sk-estimator:hover {background-color: #d4ebff;}#sk-container-id-1 div.sk-parallel-item::after {content: \"\";width: 100%;border-bottom: 1px solid gray;flex-grow: 1;}#sk-container-id-1 div.sk-label:hover label.sk-toggleable__label {background-color: #d4ebff;}#sk-container-id-1 div.sk-serial::before {content: \"\";position: absolute;border-left: 1px solid gray;box-sizing: border-box;top: 0;bottom: 0;left: 50%;z-index: 0;}#sk-container-id-1 div.sk-serial {display: flex;flex-direction: column;align-items: center;background-color: white;padding-right: 0.2em;padding-left: 0.2em;position: relative;}#sk-container-id-1 div.sk-item {position: relative;z-index: 1;}#sk-container-id-1 div.sk-parallel {display: flex;align-items: stretch;justify-content: center;background-color: white;position: relative;}#sk-container-id-1 div.sk-item::before, #sk-container-id-1 div.sk-parallel-item::before {content: \"\";position: absolute;border-left: 1px solid gray;box-sizing: border-box;top: 0;bottom: 0;left: 50%;z-index: -1;}#sk-container-id-1 div.sk-parallel-item {display: flex;flex-direction: column;z-index: 1;position: relative;background-color: white;}#sk-container-id-1 div.sk-parallel-item:first-child::after {align-self: flex-end;width: 50%;}#sk-container-id-1 div.sk-parallel-item:last-child::after {align-self: flex-start;width: 50%;}#sk-container-id-1 div.sk-parallel-item:only-child::after {width: 0;}#sk-container-id-1 div.sk-dashed-wrapped {border: 1px dashed gray;margin: 0 0.4em 0.5em 0.4em;box-sizing: border-box;padding-bottom: 0.4em;background-color: white;}#sk-container-id-1 div.sk-label label {font-family: monospace;font-weight: bold;display: inline-block;line-height: 1.2em;}#sk-container-id-1 div.sk-label-container {text-align: center;}#sk-container-id-1 div.sk-container {/* jupyter's `normalize.less` sets `[hidden] { display: none; }` but bootstrap.min.css set `[hidden] { display: none !important; }` so we also need the `!important` here to be able to override the default hidden behavior on the sphinx rendered scikit-learn.org. See: https://github.com/scikit-learn/scikit-learn/issues/21755 */display: inline-block !important;position: relative;}#sk-container-id-1 div.sk-text-repr-fallback {display: none;}</style><div id=\"sk-container-id-1\" class=\"sk-top-container\"><div class=\"sk-text-repr-fallback\"><pre>ColumnTransformer(n_jobs=-1, remainder=&#x27;passthrough&#x27;,\n",
              "                  transformers=[(&#x27;num_encoder&#x27;, StandardScaler(),\n",
              "                                 array([&#x27;heart_rate&#x27;, &#x27;hand temperature (°C)&#x27;, &#x27;hand acceleration X ±16g&#x27;,\n",
              "       &#x27;hand acceleration Y ±16g&#x27;, &#x27;hand acceleration Z ±16g&#x27;,\n",
              "       &#x27;hand gyroscope X&#x27;, &#x27;hand gyroscope Y&#x27;, &#x27;hand gyroscope Z&#x27;,\n",
              "       &#x27;hand magnetometer X&#x27;, &#x27;hand magnetometer Y&#x27;,\n",
              "       &#x27;hand magnetometer Z&#x27;, &#x27;chest temperature (°C)&#x27;,\n",
              "       &#x27;che...\n",
              "       &#x27;chest acceleration Z ±16g&#x27;, &#x27;chest gyroscope X&#x27;,\n",
              "       &#x27;chest gyroscope Y&#x27;, &#x27;chest gyroscope Z&#x27;, &#x27;chest magnetometer X&#x27;,\n",
              "       &#x27;chest magnetometer Y&#x27;, &#x27;chest magnetometer Z&#x27;,\n",
              "       &#x27;ankle temperature (°C)&#x27;, &#x27;ankle acceleration X ±16g&#x27;,\n",
              "       &#x27;ankle acceleration Y ±16g&#x27;, &#x27;ankle acceleration Z ±16g&#x27;,\n",
              "       &#x27;ankle gyroscope X&#x27;, &#x27;ankle gyroscope Y&#x27;, &#x27;ankle gyroscope Z&#x27;,\n",
              "       &#x27;ankle magnetometer X&#x27;, &#x27;ankle magnetometer Y&#x27;,\n",
              "       &#x27;ankle magnetometer Z&#x27;], dtype=object))])</pre><b>In a Jupyter environment, please rerun this cell to show the HTML representation or trust the notebook. <br />On GitHub, the HTML representation is unable to render, please try loading this page with nbviewer.org.</b></div><div class=\"sk-container\" hidden><div class=\"sk-item sk-dashed-wrapped\"><div class=\"sk-label-container\"><div class=\"sk-label sk-toggleable\"><input class=\"sk-toggleable__control sk-hidden--visually\" id=\"sk-estimator-id-1\" type=\"checkbox\" ><label for=\"sk-estimator-id-1\" class=\"sk-toggleable__label sk-toggleable__label-arrow\">ColumnTransformer</label><div class=\"sk-toggleable__content\"><pre>ColumnTransformer(n_jobs=-1, remainder=&#x27;passthrough&#x27;,\n",
              "                  transformers=[(&#x27;num_encoder&#x27;, StandardScaler(),\n",
              "                                 array([&#x27;heart_rate&#x27;, &#x27;hand temperature (°C)&#x27;, &#x27;hand acceleration X ±16g&#x27;,\n",
              "       &#x27;hand acceleration Y ±16g&#x27;, &#x27;hand acceleration Z ±16g&#x27;,\n",
              "       &#x27;hand gyroscope X&#x27;, &#x27;hand gyroscope Y&#x27;, &#x27;hand gyroscope Z&#x27;,\n",
              "       &#x27;hand magnetometer X&#x27;, &#x27;hand magnetometer Y&#x27;,\n",
              "       &#x27;hand magnetometer Z&#x27;, &#x27;chest temperature (°C)&#x27;,\n",
              "       &#x27;che...\n",
              "       &#x27;chest acceleration Z ±16g&#x27;, &#x27;chest gyroscope X&#x27;,\n",
              "       &#x27;chest gyroscope Y&#x27;, &#x27;chest gyroscope Z&#x27;, &#x27;chest magnetometer X&#x27;,\n",
              "       &#x27;chest magnetometer Y&#x27;, &#x27;chest magnetometer Z&#x27;,\n",
              "       &#x27;ankle temperature (°C)&#x27;, &#x27;ankle acceleration X ±16g&#x27;,\n",
              "       &#x27;ankle acceleration Y ±16g&#x27;, &#x27;ankle acceleration Z ±16g&#x27;,\n",
              "       &#x27;ankle gyroscope X&#x27;, &#x27;ankle gyroscope Y&#x27;, &#x27;ankle gyroscope Z&#x27;,\n",
              "       &#x27;ankle magnetometer X&#x27;, &#x27;ankle magnetometer Y&#x27;,\n",
              "       &#x27;ankle magnetometer Z&#x27;], dtype=object))])</pre></div></div></div><div class=\"sk-parallel\"><div class=\"sk-parallel-item\"><div class=\"sk-item\"><div class=\"sk-label-container\"><div class=\"sk-label sk-toggleable\"><input class=\"sk-toggleable__control sk-hidden--visually\" id=\"sk-estimator-id-2\" type=\"checkbox\" ><label for=\"sk-estimator-id-2\" class=\"sk-toggleable__label sk-toggleable__label-arrow\">num_encoder</label><div class=\"sk-toggleable__content\"><pre>[&#x27;heart_rate&#x27; &#x27;hand temperature (°C)&#x27; &#x27;hand acceleration X ±16g&#x27;\n",
              " &#x27;hand acceleration Y ±16g&#x27; &#x27;hand acceleration Z ±16g&#x27; &#x27;hand gyroscope X&#x27;\n",
              " &#x27;hand gyroscope Y&#x27; &#x27;hand gyroscope Z&#x27; &#x27;hand magnetometer X&#x27;\n",
              " &#x27;hand magnetometer Y&#x27; &#x27;hand magnetometer Z&#x27; &#x27;chest temperature (°C)&#x27;\n",
              " &#x27;chest acceleration X ±16g&#x27; &#x27;chest acceleration Y ±16g&#x27;\n",
              " &#x27;chest acceleration Z ±16g&#x27; &#x27;chest gyroscope X&#x27; &#x27;chest gyroscope Y&#x27;\n",
              " &#x27;chest gyroscope Z&#x27; &#x27;chest magnetometer X&#x27; &#x27;chest magnetometer Y&#x27;\n",
              " &#x27;chest magnetometer Z&#x27; &#x27;ankle temperature (°C)&#x27;\n",
              " &#x27;ankle acceleration X ±16g&#x27; &#x27;ankle acceleration Y ±16g&#x27;\n",
              " &#x27;ankle acceleration Z ±16g&#x27; &#x27;ankle gyroscope X&#x27; &#x27;ankle gyroscope Y&#x27;\n",
              " &#x27;ankle gyroscope Z&#x27; &#x27;ankle magnetometer X&#x27; &#x27;ankle magnetometer Y&#x27;\n",
              " &#x27;ankle magnetometer Z&#x27;]</pre></div></div></div><div class=\"sk-serial\"><div class=\"sk-item\"><div class=\"sk-estimator sk-toggleable\"><input class=\"sk-toggleable__control sk-hidden--visually\" id=\"sk-estimator-id-3\" type=\"checkbox\" ><label for=\"sk-estimator-id-3\" class=\"sk-toggleable__label sk-toggleable__label-arrow\">StandardScaler</label><div class=\"sk-toggleable__content\"><pre>StandardScaler()</pre></div></div></div></div></div></div><div class=\"sk-parallel-item\"><div class=\"sk-item\"><div class=\"sk-label-container\"><div class=\"sk-label sk-toggleable\"><input class=\"sk-toggleable__control sk-hidden--visually\" id=\"sk-estimator-id-4\" type=\"checkbox\" ><label for=\"sk-estimator-id-4\" class=\"sk-toggleable__label sk-toggleable__label-arrow\">remainder</label><div class=\"sk-toggleable__content\"><pre></pre></div></div></div><div class=\"sk-serial\"><div class=\"sk-item\"><div class=\"sk-estimator sk-toggleable\"><input class=\"sk-toggleable__control sk-hidden--visually\" id=\"sk-estimator-id-5\" type=\"checkbox\" ><label for=\"sk-estimator-id-5\" class=\"sk-toggleable__label sk-toggleable__label-arrow\">passthrough</label><div class=\"sk-toggleable__content\"><pre>passthrough</pre></div></div></div></div></div></div></div></div></div></div>"
            ]
          },
          "metadata": {},
          "execution_count": 30
        }
      ]
    },
    {
      "cell_type": "code",
      "source": [
        "X_train=ct.fit_transform(X_train)\n",
        "X_val=ct.transform(X_val)\n",
        "X_test=ct.transform(X_test)"
      ],
      "metadata": {
        "id": "3rZBear3BpdO"
      },
      "execution_count": null,
      "outputs": []
    },
    {
      "cell_type": "code",
      "source": [
        "print(\"-\"*50)\n",
        "for i in ct.transformers_:\n",
        "    print(i)\n",
        "    if(i[0]!='remainder'):\n",
        "        print(i[1].get_feature_names_out())\n",
        "    print(\"-\"*50)"
      ],
      "metadata": {
        "colab": {
          "base_uri": "https://localhost:8080/"
        },
        "id": "1Wl7HgyZBskH",
        "outputId": "14ddcb85-f0c8-4d39-d317-b5d906067b03"
      },
      "execution_count": null,
      "outputs": [
        {
          "output_type": "stream",
          "name": "stdout",
          "text": [
            "--------------------------------------------------\n",
            "('num_encoder', StandardScaler(), array(['heart_rate', 'hand temperature (°C)', 'hand acceleration X ±16g',\n",
            "       'hand acceleration Y ±16g', 'hand acceleration Z ±16g',\n",
            "       'hand gyroscope X', 'hand gyroscope Y', 'hand gyroscope Z',\n",
            "       'hand magnetometer X', 'hand magnetometer Y',\n",
            "       'hand magnetometer Z', 'chest temperature (°C)',\n",
            "       'chest acceleration X ±16g', 'chest acceleration Y ±16g',\n",
            "       'chest acceleration Z ±16g', 'chest gyroscope X',\n",
            "       'chest gyroscope Y', 'chest gyroscope Z', 'chest magnetometer X',\n",
            "       'chest magnetometer Y', 'chest magnetometer Z',\n",
            "       'ankle temperature (°C)', 'ankle acceleration X ±16g',\n",
            "       'ankle acceleration Y ±16g', 'ankle acceleration Z ±16g',\n",
            "       'ankle gyroscope X', 'ankle gyroscope Y', 'ankle gyroscope Z',\n",
            "       'ankle magnetometer X', 'ankle magnetometer Y',\n",
            "       'ankle magnetometer Z'], dtype=object))\n",
            "['heart_rate' 'hand temperature (°C)' 'hand acceleration X ±16g'\n",
            " 'hand acceleration Y ±16g' 'hand acceleration Z ±16g' 'hand gyroscope X'\n",
            " 'hand gyroscope Y' 'hand gyroscope Z' 'hand magnetometer X'\n",
            " 'hand magnetometer Y' 'hand magnetometer Z' 'chest temperature (°C)'\n",
            " 'chest acceleration X ±16g' 'chest acceleration Y ±16g'\n",
            " 'chest acceleration Z ±16g' 'chest gyroscope X' 'chest gyroscope Y'\n",
            " 'chest gyroscope Z' 'chest magnetometer X' 'chest magnetometer Y'\n",
            " 'chest magnetometer Z' 'ankle temperature (°C)'\n",
            " 'ankle acceleration X ±16g' 'ankle acceleration Y ±16g'\n",
            " 'ankle acceleration Z ±16g' 'ankle gyroscope X' 'ankle gyroscope Y'\n",
            " 'ankle gyroscope Z' 'ankle magnetometer X' 'ankle magnetometer Y'\n",
            " 'ankle magnetometer Z']\n",
            "--------------------------------------------------\n"
          ]
        }
      ]
    },
    {
      "cell_type": "code",
      "source": [
        "ct"
      ],
      "metadata": {
        "colab": {
          "base_uri": "https://localhost:8080/",
          "height": 117
        },
        "id": "zlHAOtzZBwIO",
        "outputId": "521673fc-ce51-44c8-ae45-37e499a2a5f0"
      },
      "execution_count": null,
      "outputs": [
        {
          "output_type": "execute_result",
          "data": {
            "text/plain": [
              "ColumnTransformer(n_jobs=-1, remainder='passthrough',\n",
              "                  transformers=[('num_encoder', StandardScaler(),\n",
              "                                 array(['heart_rate', 'hand temperature (°C)', 'hand acceleration X ±16g',\n",
              "       'hand acceleration Y ±16g', 'hand acceleration Z ±16g',\n",
              "       'hand gyroscope X', 'hand gyroscope Y', 'hand gyroscope Z',\n",
              "       'hand magnetometer X', 'hand magnetometer Y',\n",
              "       'hand magnetometer Z', 'chest temperature (°C)',\n",
              "       'che...\n",
              "       'chest acceleration Z ±16g', 'chest gyroscope X',\n",
              "       'chest gyroscope Y', 'chest gyroscope Z', 'chest magnetometer X',\n",
              "       'chest magnetometer Y', 'chest magnetometer Z',\n",
              "       'ankle temperature (°C)', 'ankle acceleration X ±16g',\n",
              "       'ankle acceleration Y ±16g', 'ankle acceleration Z ±16g',\n",
              "       'ankle gyroscope X', 'ankle gyroscope Y', 'ankle gyroscope Z',\n",
              "       'ankle magnetometer X', 'ankle magnetometer Y',\n",
              "       'ankle magnetometer Z'], dtype=object))])"
            ],
            "text/html": [
              "<style>#sk-container-id-2 {color: black;background-color: white;}#sk-container-id-2 pre{padding: 0;}#sk-container-id-2 div.sk-toggleable {background-color: white;}#sk-container-id-2 label.sk-toggleable__label {cursor: pointer;display: block;width: 100%;margin-bottom: 0;padding: 0.3em;box-sizing: border-box;text-align: center;}#sk-container-id-2 label.sk-toggleable__label-arrow:before {content: \"▸\";float: left;margin-right: 0.25em;color: #696969;}#sk-container-id-2 label.sk-toggleable__label-arrow:hover:before {color: black;}#sk-container-id-2 div.sk-estimator:hover label.sk-toggleable__label-arrow:before {color: black;}#sk-container-id-2 div.sk-toggleable__content {max-height: 0;max-width: 0;overflow: hidden;text-align: left;background-color: #f0f8ff;}#sk-container-id-2 div.sk-toggleable__content pre {margin: 0.2em;color: black;border-radius: 0.25em;background-color: #f0f8ff;}#sk-container-id-2 input.sk-toggleable__control:checked~div.sk-toggleable__content {max-height: 200px;max-width: 100%;overflow: auto;}#sk-container-id-2 input.sk-toggleable__control:checked~label.sk-toggleable__label-arrow:before {content: \"▾\";}#sk-container-id-2 div.sk-estimator input.sk-toggleable__control:checked~label.sk-toggleable__label {background-color: #d4ebff;}#sk-container-id-2 div.sk-label input.sk-toggleable__control:checked~label.sk-toggleable__label {background-color: #d4ebff;}#sk-container-id-2 input.sk-hidden--visually {border: 0;clip: rect(1px 1px 1px 1px);clip: rect(1px, 1px, 1px, 1px);height: 1px;margin: -1px;overflow: hidden;padding: 0;position: absolute;width: 1px;}#sk-container-id-2 div.sk-estimator {font-family: monospace;background-color: #f0f8ff;border: 1px dotted black;border-radius: 0.25em;box-sizing: border-box;margin-bottom: 0.5em;}#sk-container-id-2 div.sk-estimator:hover {background-color: #d4ebff;}#sk-container-id-2 div.sk-parallel-item::after {content: \"\";width: 100%;border-bottom: 1px solid gray;flex-grow: 1;}#sk-container-id-2 div.sk-label:hover label.sk-toggleable__label {background-color: #d4ebff;}#sk-container-id-2 div.sk-serial::before {content: \"\";position: absolute;border-left: 1px solid gray;box-sizing: border-box;top: 0;bottom: 0;left: 50%;z-index: 0;}#sk-container-id-2 div.sk-serial {display: flex;flex-direction: column;align-items: center;background-color: white;padding-right: 0.2em;padding-left: 0.2em;position: relative;}#sk-container-id-2 div.sk-item {position: relative;z-index: 1;}#sk-container-id-2 div.sk-parallel {display: flex;align-items: stretch;justify-content: center;background-color: white;position: relative;}#sk-container-id-2 div.sk-item::before, #sk-container-id-2 div.sk-parallel-item::before {content: \"\";position: absolute;border-left: 1px solid gray;box-sizing: border-box;top: 0;bottom: 0;left: 50%;z-index: -1;}#sk-container-id-2 div.sk-parallel-item {display: flex;flex-direction: column;z-index: 1;position: relative;background-color: white;}#sk-container-id-2 div.sk-parallel-item:first-child::after {align-self: flex-end;width: 50%;}#sk-container-id-2 div.sk-parallel-item:last-child::after {align-self: flex-start;width: 50%;}#sk-container-id-2 div.sk-parallel-item:only-child::after {width: 0;}#sk-container-id-2 div.sk-dashed-wrapped {border: 1px dashed gray;margin: 0 0.4em 0.5em 0.4em;box-sizing: border-box;padding-bottom: 0.4em;background-color: white;}#sk-container-id-2 div.sk-label label {font-family: monospace;font-weight: bold;display: inline-block;line-height: 1.2em;}#sk-container-id-2 div.sk-label-container {text-align: center;}#sk-container-id-2 div.sk-container {/* jupyter's `normalize.less` sets `[hidden] { display: none; }` but bootstrap.min.css set `[hidden] { display: none !important; }` so we also need the `!important` here to be able to override the default hidden behavior on the sphinx rendered scikit-learn.org. See: https://github.com/scikit-learn/scikit-learn/issues/21755 */display: inline-block !important;position: relative;}#sk-container-id-2 div.sk-text-repr-fallback {display: none;}</style><div id=\"sk-container-id-2\" class=\"sk-top-container\"><div class=\"sk-text-repr-fallback\"><pre>ColumnTransformer(n_jobs=-1, remainder=&#x27;passthrough&#x27;,\n",
              "                  transformers=[(&#x27;num_encoder&#x27;, StandardScaler(),\n",
              "                                 array([&#x27;heart_rate&#x27;, &#x27;hand temperature (°C)&#x27;, &#x27;hand acceleration X ±16g&#x27;,\n",
              "       &#x27;hand acceleration Y ±16g&#x27;, &#x27;hand acceleration Z ±16g&#x27;,\n",
              "       &#x27;hand gyroscope X&#x27;, &#x27;hand gyroscope Y&#x27;, &#x27;hand gyroscope Z&#x27;,\n",
              "       &#x27;hand magnetometer X&#x27;, &#x27;hand magnetometer Y&#x27;,\n",
              "       &#x27;hand magnetometer Z&#x27;, &#x27;chest temperature (°C)&#x27;,\n",
              "       &#x27;che...\n",
              "       &#x27;chest acceleration Z ±16g&#x27;, &#x27;chest gyroscope X&#x27;,\n",
              "       &#x27;chest gyroscope Y&#x27;, &#x27;chest gyroscope Z&#x27;, &#x27;chest magnetometer X&#x27;,\n",
              "       &#x27;chest magnetometer Y&#x27;, &#x27;chest magnetometer Z&#x27;,\n",
              "       &#x27;ankle temperature (°C)&#x27;, &#x27;ankle acceleration X ±16g&#x27;,\n",
              "       &#x27;ankle acceleration Y ±16g&#x27;, &#x27;ankle acceleration Z ±16g&#x27;,\n",
              "       &#x27;ankle gyroscope X&#x27;, &#x27;ankle gyroscope Y&#x27;, &#x27;ankle gyroscope Z&#x27;,\n",
              "       &#x27;ankle magnetometer X&#x27;, &#x27;ankle magnetometer Y&#x27;,\n",
              "       &#x27;ankle magnetometer Z&#x27;], dtype=object))])</pre><b>In a Jupyter environment, please rerun this cell to show the HTML representation or trust the notebook. <br />On GitHub, the HTML representation is unable to render, please try loading this page with nbviewer.org.</b></div><div class=\"sk-container\" hidden><div class=\"sk-item sk-dashed-wrapped\"><div class=\"sk-label-container\"><div class=\"sk-label sk-toggleable\"><input class=\"sk-toggleable__control sk-hidden--visually\" id=\"sk-estimator-id-6\" type=\"checkbox\" ><label for=\"sk-estimator-id-6\" class=\"sk-toggleable__label sk-toggleable__label-arrow\">ColumnTransformer</label><div class=\"sk-toggleable__content\"><pre>ColumnTransformer(n_jobs=-1, remainder=&#x27;passthrough&#x27;,\n",
              "                  transformers=[(&#x27;num_encoder&#x27;, StandardScaler(),\n",
              "                                 array([&#x27;heart_rate&#x27;, &#x27;hand temperature (°C)&#x27;, &#x27;hand acceleration X ±16g&#x27;,\n",
              "       &#x27;hand acceleration Y ±16g&#x27;, &#x27;hand acceleration Z ±16g&#x27;,\n",
              "       &#x27;hand gyroscope X&#x27;, &#x27;hand gyroscope Y&#x27;, &#x27;hand gyroscope Z&#x27;,\n",
              "       &#x27;hand magnetometer X&#x27;, &#x27;hand magnetometer Y&#x27;,\n",
              "       &#x27;hand magnetometer Z&#x27;, &#x27;chest temperature (°C)&#x27;,\n",
              "       &#x27;che...\n",
              "       &#x27;chest acceleration Z ±16g&#x27;, &#x27;chest gyroscope X&#x27;,\n",
              "       &#x27;chest gyroscope Y&#x27;, &#x27;chest gyroscope Z&#x27;, &#x27;chest magnetometer X&#x27;,\n",
              "       &#x27;chest magnetometer Y&#x27;, &#x27;chest magnetometer Z&#x27;,\n",
              "       &#x27;ankle temperature (°C)&#x27;, &#x27;ankle acceleration X ±16g&#x27;,\n",
              "       &#x27;ankle acceleration Y ±16g&#x27;, &#x27;ankle acceleration Z ±16g&#x27;,\n",
              "       &#x27;ankle gyroscope X&#x27;, &#x27;ankle gyroscope Y&#x27;, &#x27;ankle gyroscope Z&#x27;,\n",
              "       &#x27;ankle magnetometer X&#x27;, &#x27;ankle magnetometer Y&#x27;,\n",
              "       &#x27;ankle magnetometer Z&#x27;], dtype=object))])</pre></div></div></div><div class=\"sk-parallel\"><div class=\"sk-parallel-item\"><div class=\"sk-item\"><div class=\"sk-label-container\"><div class=\"sk-label sk-toggleable\"><input class=\"sk-toggleable__control sk-hidden--visually\" id=\"sk-estimator-id-7\" type=\"checkbox\" ><label for=\"sk-estimator-id-7\" class=\"sk-toggleable__label sk-toggleable__label-arrow\">num_encoder</label><div class=\"sk-toggleable__content\"><pre>[&#x27;heart_rate&#x27; &#x27;hand temperature (°C)&#x27; &#x27;hand acceleration X ±16g&#x27;\n",
              " &#x27;hand acceleration Y ±16g&#x27; &#x27;hand acceleration Z ±16g&#x27; &#x27;hand gyroscope X&#x27;\n",
              " &#x27;hand gyroscope Y&#x27; &#x27;hand gyroscope Z&#x27; &#x27;hand magnetometer X&#x27;\n",
              " &#x27;hand magnetometer Y&#x27; &#x27;hand magnetometer Z&#x27; &#x27;chest temperature (°C)&#x27;\n",
              " &#x27;chest acceleration X ±16g&#x27; &#x27;chest acceleration Y ±16g&#x27;\n",
              " &#x27;chest acceleration Z ±16g&#x27; &#x27;chest gyroscope X&#x27; &#x27;chest gyroscope Y&#x27;\n",
              " &#x27;chest gyroscope Z&#x27; &#x27;chest magnetometer X&#x27; &#x27;chest magnetometer Y&#x27;\n",
              " &#x27;chest magnetometer Z&#x27; &#x27;ankle temperature (°C)&#x27;\n",
              " &#x27;ankle acceleration X ±16g&#x27; &#x27;ankle acceleration Y ±16g&#x27;\n",
              " &#x27;ankle acceleration Z ±16g&#x27; &#x27;ankle gyroscope X&#x27; &#x27;ankle gyroscope Y&#x27;\n",
              " &#x27;ankle gyroscope Z&#x27; &#x27;ankle magnetometer X&#x27; &#x27;ankle magnetometer Y&#x27;\n",
              " &#x27;ankle magnetometer Z&#x27;]</pre></div></div></div><div class=\"sk-serial\"><div class=\"sk-item\"><div class=\"sk-estimator sk-toggleable\"><input class=\"sk-toggleable__control sk-hidden--visually\" id=\"sk-estimator-id-8\" type=\"checkbox\" ><label for=\"sk-estimator-id-8\" class=\"sk-toggleable__label sk-toggleable__label-arrow\">StandardScaler</label><div class=\"sk-toggleable__content\"><pre>StandardScaler()</pre></div></div></div></div></div></div><div class=\"sk-parallel-item\"><div class=\"sk-item\"><div class=\"sk-label-container\"><div class=\"sk-label sk-toggleable\"><input class=\"sk-toggleable__control sk-hidden--visually\" id=\"sk-estimator-id-9\" type=\"checkbox\" ><label for=\"sk-estimator-id-9\" class=\"sk-toggleable__label sk-toggleable__label-arrow\">remainder</label><div class=\"sk-toggleable__content\"><pre>[]</pre></div></div></div><div class=\"sk-serial\"><div class=\"sk-item\"><div class=\"sk-estimator sk-toggleable\"><input class=\"sk-toggleable__control sk-hidden--visually\" id=\"sk-estimator-id-10\" type=\"checkbox\" ><label for=\"sk-estimator-id-10\" class=\"sk-toggleable__label sk-toggleable__label-arrow\">passthrough</label><div class=\"sk-toggleable__content\"><pre>passthrough</pre></div></div></div></div></div></div></div></div></div></div>"
            ]
          },
          "metadata": {},
          "execution_count": 33
        }
      ]
    },
    {
      "cell_type": "code",
      "source": [
        "y_train.value_counts()"
      ],
      "metadata": {
        "colab": {
          "base_uri": "https://localhost:8080/"
        },
        "id": "3Rz4gEIEB0O3",
        "outputId": "894beb9d-f0f6-4805-ed6f-f4cd9eb0cf92"
      },
      "execution_count": null,
      "outputs": [
        {
          "output_type": "execute_result",
          "data": {
            "text/plain": [
              "activityID          \n",
              "transient activities    751298\n",
              "walking                 193397\n",
              "ironing                 193339\n",
              "lying                   155944\n",
              "standing                153844\n",
              "Nordic walking          152366\n",
              "sitting                 150002\n",
              "vacuum cleaning         142036\n",
              "cycling                 133326\n",
              "ascending stairs         94945\n",
              "descending stairs        85005\n",
              "running                  79541\n",
              "rope jumping             34805\n",
              "dtype: int64"
            ]
          },
          "metadata": {},
          "execution_count": 34
        }
      ]
    },
    {
      "cell_type": "code",
      "source": [
        "y_oh.fit(y_train)\n",
        "output_shape=len(y_oh.get_feature_names_out())\n",
        "\n",
        "y_train_copy=l_eh.fit_transform(y_train)\n",
        "y_val_copy=l_eh.transform(y_val)\n",
        "y_test_copy=l_eh.transform(y_test)\n",
        "\n",
        "y_train_tf_copy = tf.keras.utils.to_categorical(y_train_copy, num_classes=output_shape)\n",
        "y_val_tf_copy = tf.keras.utils.to_categorical(y_val_copy, num_classes=output_shape)\n",
        "y_test_tf_copy = tf.keras.utils.to_categorical(y_test_copy, num_classes=output_shape)"
      ],
      "metadata": {
        "colab": {
          "base_uri": "https://localhost:8080/"
        },
        "id": "mZh1fED2B2DM",
        "outputId": "12636f2a-0bb3-4129-d7f2-0e2e2f9c9bcc"
      },
      "execution_count": null,
      "outputs": [
        {
          "output_type": "stream",
          "name": "stderr",
          "text": [
            "/usr/local/lib/python3.10/dist-packages/sklearn/preprocessing/_label.py:116: DataConversionWarning: A column-vector y was passed when a 1d array was expected. Please change the shape of y to (n_samples, ), for example using ravel().\n",
            "  y = column_or_1d(y, warn=True)\n",
            "/usr/local/lib/python3.10/dist-packages/sklearn/preprocessing/_label.py:134: DataConversionWarning: A column-vector y was passed when a 1d array was expected. Please change the shape of y to (n_samples, ), for example using ravel().\n",
            "  y = column_or_1d(y, dtype=self.classes_.dtype, warn=True)\n",
            "/usr/local/lib/python3.10/dist-packages/sklearn/preprocessing/_label.py:134: DataConversionWarning: A column-vector y was passed when a 1d array was expected. Please change the shape of y to (n_samples, ), for example using ravel().\n",
            "  y = column_or_1d(y, dtype=self.classes_.dtype, warn=True)\n"
          ]
        }
      ]
    },
    {
      "cell_type": "code",
      "source": [
        "dict(enumerate(l_eh.classes_))"
      ],
      "metadata": {
        "colab": {
          "base_uri": "https://localhost:8080/"
        },
        "id": "Zd23w6qYB4ro",
        "outputId": "06e258eb-1258-4c3a-e3b0-6d7d1a626c52"
      },
      "execution_count": null,
      "outputs": [
        {
          "output_type": "execute_result",
          "data": {
            "text/plain": [
              "{0: 'Nordic walking',\n",
              " 1: 'ascending stairs',\n",
              " 2: 'cycling',\n",
              " 3: 'descending stairs',\n",
              " 4: 'ironing',\n",
              " 5: 'lying',\n",
              " 6: 'rope jumping',\n",
              " 7: 'running',\n",
              " 8: 'sitting',\n",
              " 9: 'standing',\n",
              " 10: 'transient activities',\n",
              " 11: 'vacuum cleaning',\n",
              " 12: 'walking'}"
            ]
          },
          "metadata": {},
          "execution_count": 36
        }
      ]
    },
    {
      "cell_type": "code",
      "source": [
        "X_train.shape,y_train.shape"
      ],
      "metadata": {
        "colab": {
          "base_uri": "https://localhost:8080/"
        },
        "id": "J9eVD59WB69j",
        "outputId": "f88ab589-b318-4000-9e5d-b9a87905a3ba"
      },
      "execution_count": null,
      "outputs": [
        {
          "output_type": "execute_result",
          "data": {
            "text/plain": [
              "((2319848, 31), (2319848, 1))"
            ]
          },
          "metadata": {},
          "execution_count": 37
        }
      ]
    },
    {
      "cell_type": "code",
      "source": [
        "X_test.shape,y_test.shape"
      ],
      "metadata": {
        "colab": {
          "base_uri": "https://localhost:8080/"
        },
        "id": "1eRPLp0iB-HE",
        "outputId": "b6047473-0562-4bf2-c76c-a3827689cefd"
      },
      "execution_count": null,
      "outputs": [
        {
          "output_type": "execute_result",
          "data": {
            "text/plain": [
              "((286401, 31), (286401, 1))"
            ]
          },
          "metadata": {},
          "execution_count": 38
        }
      ]
    },
    {
      "cell_type": "code",
      "source": [
        "tup1=None;tup2=None\n",
        "try:\n",
        "    tup1=(X_test[0].toarray(),y_test_tf_copy[0])\n",
        "    print(\"Sparse Matrix to Dense Array\")\n",
        "except:\n",
        "    tup2=(X_test[0],y_test_tf_copy[0])\n",
        "    print(\"Normal Matrix to Dense Array\")\n",
        "\n",
        "tup1 if(tup1) else tup2"
      ],
      "metadata": {
        "colab": {
          "base_uri": "https://localhost:8080/"
        },
        "id": "6QCDej4MB_96",
        "outputId": "7adc7648-5f2a-4d3b-fe89-fd962cf2bc4e"
      },
      "execution_count": null,
      "outputs": [
        {
          "output_type": "stream",
          "name": "stdout",
          "text": [
            "Normal Matrix to Dense Array\n"
          ]
        },
        {
          "output_type": "execute_result",
          "data": {
            "text/plain": [
              "(array([ 1.71211991, -2.10731841, -0.78886068, -0.41436923, -0.30520798,\n",
              "         0.26576272, -0.79138834,  0.56740253, -0.63351551, -1.2225142 ,\n",
              "        -0.1643288 , -2.40593407,  0.77089036,  1.21584692, -0.95846199,\n",
              "         1.14058622, -0.27402481, -1.28856312, -0.27013504, -0.79368872,\n",
              "         0.22547653, -2.70391886,  1.13445227, -0.36326796,  0.38340658,\n",
              "        -0.86027539,  1.55463225, -1.32690996, -1.69017095, -1.04822403,\n",
              "         0.11786037]),\n",
              " array([0., 0., 0., 0., 0., 0., 0., 0., 0., 0., 1., 0., 0.], dtype=float32))"
            ]
          },
          "metadata": {},
          "execution_count": 39
        }
      ]
    },
    {
      "cell_type": "code",
      "source": [
        "batch_size=2048"
      ],
      "metadata": {
        "id": "OLMbHgVDCB_P"
      },
      "execution_count": null,
      "outputs": []
    },
    {
      "cell_type": "code",
      "source": [
        "data_tf_tr=tf.data.Dataset.from_tensor_slices((X_train, y_train_tf_copy))\n",
        "data_train_batches = data_tf_tr.batch(batch_size).cache().prefetch(tf.data.AUTOTUNE)\n",
        "\n",
        "data_tf_val=tf.data.Dataset.from_tensor_slices((X_val, y_val_tf_copy))\n",
        "data_val_batches = data_tf_val.batch(batch_size).cache().prefetch(tf.data.AUTOTUNE)\n",
        "\n",
        "data_tf_te=tf.data.Dataset.from_tensor_slices((X_test, y_test_tf_copy))\n",
        "data_test_x_y_batches = data_tf_te.batch(batch_size).cache().prefetch(tf.data.AUTOTUNE)"
      ],
      "metadata": {
        "id": "sAdZtgIvCERl"
      },
      "execution_count": null,
      "outputs": []
    },
    {
      "cell_type": "code",
      "source": [
        "data_tf_tre=tf.data.Dataset.from_tensor_slices(X_test)\n",
        "data_test_x_batches = data_tf_tre.batch(batch_size).cache().prefetch(tf.data.AUTOTUNE)"
      ],
      "metadata": {
        "id": "U52rWlvvCHBE"
      },
      "execution_count": null,
      "outputs": []
    },
    {
      "cell_type": "code",
      "source": [
        "n,m=5,4"
      ],
      "metadata": {
        "id": "qBu3NYTSCLgA"
      },
      "execution_count": null,
      "outputs": []
    },
    {
      "cell_type": "code",
      "source": [
        "from tensorflow.keras.models import Sequential\n",
        "from tensorflow.keras.layers import Dense,Dropout,Input,PReLU,LeakyReLU\n",
        "from tensorflow.keras.callbacks import EarlyStopping,ReduceLROnPlateau\n",
        "\n",
        "l_relu=LeakyReLU()\n",
        "para_relu = PReLU()\n",
        "e=EarlyStopping(monitor='val_loss',patience=10,restore_best_weights=True,verbose=1)\n",
        "reduce_lr = ReduceLROnPlateau(monitor='val_loss', factor=0.2,patience=2, min_lr=0.001)\n",
        "\n",
        "y_train_tf_copy.shape"
      ],
      "metadata": {
        "colab": {
          "base_uri": "https://localhost:8080/"
        },
        "id": "1ybU8MtcCNzN",
        "outputId": "dddb920d-3841-4c11-fa80-1ebdf06657ea"
      },
      "execution_count": null,
      "outputs": [
        {
          "output_type": "execute_result",
          "data": {
            "text/plain": [
              "(2319848, 13)"
            ]
          },
          "metadata": {},
          "execution_count": 44
        }
      ]
    },
    {
      "cell_type": "code",
      "source": [
        "input_shape_val=X_train.shape[1]\n",
        "X_train.shape,input_shape_val"
      ],
      "metadata": {
        "colab": {
          "base_uri": "https://localhost:8080/"
        },
        "id": "hC4g-8ekCRNM",
        "outputId": "c6ed1880-1233-4030-d263-480fdc5d3f3c"
      },
      "execution_count": null,
      "outputs": [
        {
          "output_type": "execute_result",
          "data": {
            "text/plain": [
              "((2319848, 31), 31)"
            ]
          },
          "metadata": {},
          "execution_count": 45
        }
      ]
    },
    {
      "cell_type": "code",
      "source": [
        "model=Sequential()\n",
        "\n",
        "#Input Layer\n",
        "model.add(Input(shape=(input_shape_val,)))\n",
        "\n",
        "#Hidden Layer\n",
        "model.add(Dense((m*n)*input_shape_val , activation=para_relu ))\n",
        "model.add(Dense((m*n)*input_shape_val , activation=para_relu ))\n",
        "model.add(Dense((m*n)*input_shape_val , activation='relu'))\n",
        "model.add(Dense((m*n)*input_shape_val , activation=para_relu ))\n",
        "model.add(Dense((m*n)*input_shape_val , activation=para_relu ))\n",
        "\n",
        "#Output Layer\n",
        "model.add(Dense(output_shape,activation='softmax'))\n",
        "\n",
        "model.compile(loss='categorical_crossentropy',\n",
        "              optimizer='adam',\n",
        "              metrics = [ 'accuracy',\n",
        "                         tf.keras.metrics.AUC(name='AUC_ROC',curve='ROC',num_thresholds=10000) ,\n",
        "                         tfa.metrics.F1Score(name='F1_Score',num_classes=output_shape,average='macro',threshold=0.5)\n",
        "                        ]\n",
        "             )\n"
      ],
      "metadata": {
        "id": "r4iLubycCUbk"
      },
      "execution_count": null,
      "outputs": []
    },
    {
      "cell_type": "code",
      "source": [
        "model.summary()"
      ],
      "metadata": {
        "colab": {
          "base_uri": "https://localhost:8080/"
        },
        "id": "MVMR3SK-Cdw1",
        "outputId": "a7879025-886f-4480-f86d-773bc0639d33"
      },
      "execution_count": null,
      "outputs": [
        {
          "output_type": "stream",
          "name": "stdout",
          "text": [
            "Model: \"sequential\"\n",
            "_________________________________________________________________\n",
            " Layer (type)                Output Shape              Param #   \n",
            "=================================================================\n",
            " dense (Dense)               (None, 620)               20460     \n",
            "                                                                 \n",
            " dense_1 (Dense)             (None, 620)               385640    \n",
            "                                                                 \n",
            " dense_2 (Dense)             (None, 620)               385020    \n",
            "                                                                 \n",
            " dense_3 (Dense)             (None, 620)               385640    \n",
            "                                                                 \n",
            " dense_4 (Dense)             (None, 620)               385640    \n",
            "                                                                 \n",
            " dense_5 (Dense)             (None, 13)                8073      \n",
            "                                                                 \n",
            "=================================================================\n",
            "Total params: 1,568,613\n",
            "Trainable params: 1,568,613\n",
            "Non-trainable params: 0\n",
            "_________________________________________________________________\n"
          ]
        }
      ]
    },
    {
      "cell_type": "code",
      "source": [
        "from tensorflow.keras.utils import plot_model\n",
        "plot_model(model, to_file='model.png',show_shapes=True,show_dtype=True,show_layer_activations=True)"
      ],
      "metadata": {
        "colab": {
          "base_uri": "https://localhost:8080/",
          "height": 969
        },
        "id": "dnmFt_juCgLi",
        "outputId": "13fcc2ef-98bd-42ed-bbf0-3bcc1f856173"
      },
      "execution_count": null,
      "outputs": [
        {
          "output_type": "execute_result",
          "data": {
            "image/png": "[encoded data removed]",
            "text/plain": [
              "<IPython.core.display.Image object>"
            ]
          },
          "metadata": {},
          "execution_count": 48
        }
      ]
    },
    {
      "cell_type": "code",
      "source": [
        "#only 10 epochs\n",
        "%%time\n",
        "history=model.fit(data_train_batches,epochs=10,callbacks=[e,reduce_lr],\n",
        "                  validation_data=data_val_batches,verbose=1)"
      ],
      "metadata": {
        "colab": {
          "base_uri": "https://localhost:8080/"
        },
        "id": "t_lMyLW9Cisn",
        "outputId": "2b97a4a3-93df-4894-d95b-a0a0791f5a8a"
      },
      "execution_count": null,
      "outputs": [
        {
          "output_type": "stream",
          "name": "stdout",
          "text": [
            "Epoch 1/10\n",
            "1133/1133 [==============================] - 24s 14ms/step - loss: 0.1754 - accuracy: 0.9369 - AUC_ROC: 0.9986 - F1_Score: 0.9349 - val_loss: 0.0595 - val_accuracy: 0.9778 - val_AUC_ROC: 0.9998 - val_F1_Score: 0.9760 - lr: 0.0010\n",
            "Epoch 2/10\n",
            "1133/1133 [==============================] - 13s 11ms/step - loss: 0.0470 - accuracy: 0.9818 - AUC_ROC: 0.9999 - F1_Score: 0.9810 - val_loss: 0.0393 - val_accuracy: 0.9851 - val_AUC_ROC: 0.9999 - val_F1_Score: 0.9843 - lr: 0.0010\n",
            "Epoch 3/10\n",
            "1133/1133 [==============================] - 13s 11ms/step - loss: 0.0342 - accuracy: 0.9866 - AUC_ROC: 0.9999 - F1_Score: 0.9861 - val_loss: 0.0323 - val_accuracy: 0.9878 - val_AUC_ROC: 0.9999 - val_F1_Score: 0.9871 - lr: 0.0010\n",
            "Epoch 4/10\n",
            "1133/1133 [==============================] - 13s 12ms/step - loss: 0.0290 - accuracy: 0.9886 - AUC_ROC: 0.9999 - F1_Score: 0.9880 - val_loss: 0.0271 - val_accuracy: 0.9894 - val_AUC_ROC: 1.0000 - val_F1_Score: 0.9887 - lr: 0.0010\n",
            "Epoch 5/10\n",
            "1133/1133 [==============================] - 13s 11ms/step - loss: 0.0252 - accuracy: 0.9901 - AUC_ROC: 1.0000 - F1_Score: 0.9897 - val_loss: 0.0279 - val_accuracy: 0.9891 - val_AUC_ROC: 0.9999 - val_F1_Score: 0.9879 - lr: 0.0010\n",
            "Epoch 6/10\n",
            "1133/1133 [==============================] - 13s 11ms/step - loss: 0.0227 - accuracy: 0.9910 - AUC_ROC: 1.0000 - F1_Score: 0.9906 - val_loss: 0.0218 - val_accuracy: 0.9918 - val_AUC_ROC: 0.9999 - val_F1_Score: 0.9908 - lr: 0.0010\n",
            "Epoch 7/10\n",
            "1133/1133 [==============================] - 13s 11ms/step - loss: 0.0209 - accuracy: 0.9917 - AUC_ROC: 1.0000 - F1_Score: 0.9914 - val_loss: 0.0243 - val_accuracy: 0.9910 - val_AUC_ROC: 0.9999 - val_F1_Score: 0.9901 - lr: 0.0010\n",
            "Epoch 8/10\n",
            "1133/1133 [==============================] - 13s 12ms/step - loss: 0.0193 - accuracy: 0.9924 - AUC_ROC: 1.0000 - F1_Score: 0.9921 - val_loss: 0.0181 - val_accuracy: 0.9930 - val_AUC_ROC: 1.0000 - val_F1_Score: 0.9916 - lr: 0.0010\n",
            "Epoch 9/10\n",
            "1133/1133 [==============================] - 13s 12ms/step - loss: 0.0180 - accuracy: 0.9930 - AUC_ROC: 1.0000 - F1_Score: 0.9926 - val_loss: 0.0175 - val_accuracy: 0.9934 - val_AUC_ROC: 1.0000 - val_F1_Score: 0.9925 - lr: 0.0010\n",
            "Epoch 10/10\n",
            "1133/1133 [==============================] - 13s 12ms/step - loss: 0.0170 - accuracy: 0.9933 - AUC_ROC: 1.0000 - F1_Score: 0.9930 - val_loss: 0.0177 - val_accuracy: 0.9933 - val_AUC_ROC: 0.9999 - val_F1_Score: 0.9928 - lr: 0.0010\n",
            "CPU times: user 2min 1s, sys: 6.88 s, total: 2min 8s\n",
            "Wall time: 2min 43s\n"
          ]
        }
      ]
    },
    {
      "cell_type": "code",
      "source": [
        "model.evaluate(data_test_x_y_batches)"
      ],
      "metadata": {
        "colab": {
          "base_uri": "https://localhost:8080/"
        },
        "id": "5vbl_2YFCpBS",
        "outputId": "a3c8d29e-d95a-4187-fac1-6d199d6b629c"
      },
      "execution_count": null,
      "outputs": [
        {
          "output_type": "stream",
          "name": "stdout",
          "text": [
            "140/140 [==============================] - 4s 27ms/step - loss: 0.0178 - accuracy: 0.9931 - AUC_ROC: 1.0000 - F1_Score: 0.9927\n"
          ]
        },
        {
          "output_type": "execute_result",
          "data": {
            "text/plain": [
              "[0.017792832106351852,\n",
              " 0.9931460022926331,\n",
              " 0.999961793422699,\n",
              " 0.9926798343658447]"
            ]
          },
          "metadata": {},
          "execution_count": 50
        }
      ]
    },
    {
      "cell_type": "code",
      "source": [
        "score_dict={};j=0"
      ],
      "metadata": {
        "id": "B8X1WICJEqNg"
      },
      "execution_count": null,
      "outputs": []
    },
    {
      "cell_type": "code",
      "source": [
        "def tester_func(model_list,X_test,y_test):\n",
        "    for i,clf in enumerate(model_list):\n",
        "\n",
        "        pred_proba=None;pred=None\n",
        "        clf_name = clf.__class__.__name__\n",
        "\n",
        "        try:\n",
        "            pred_proba=clf.predict(X_test)\n",
        "            pred=np.argmax(clf.predict(X_test), axis=-1)\n",
        "        except NotFittedError as e:\n",
        "            raise(e)\n",
        "\n",
        "        print(\"-\"*80)\n",
        "        print(f\"Predicting {clf_name} done\")\n",
        "\n",
        "        if(str(df[target].dtype)!='object'):\n",
        "            print(\"Non object mode testing .........\")\n",
        "            score_dict[clf_name]={\n",
        "                'roc_auc_score':roc_auc_score(y_test.values,pred_proba,multi_class='ovr'),\n",
        "                'f1_score':f1_score(y_test.values,pred,average='macro'),\n",
        "                'accuracy_score':accuracy_score(y_test.values,pred),\n",
        "                'model_index':int(i)\n",
        "            }\n",
        "\n",
        "        else:\n",
        "            print(\"Object mode testing .........\")\n",
        "            score_dict[clf_name]={\n",
        "                'roc_auc_score':roc_auc_score(y_test,pred_proba,multi_class='ovr'),\n",
        "                'f1_score':f1_score(y_test,pred,average='macro'),\n",
        "                'accuracy_score':accuracy_score(y_test,pred),\n",
        "                'model_index':int(i)\n",
        "            }\n",
        "\n",
        "        j=i\n",
        "\n",
        "    print(\"-\"*80)\n",
        "    return j"
      ],
      "metadata": {
        "id": "ZXcYTlilEsgv"
      },
      "execution_count": null,
      "outputs": []
    },
    {
      "cell_type": "code",
      "source": [
        "indexer=tester_func([model],X_test,y_test_copy)"
      ],
      "metadata": {
        "colab": {
          "base_uri": "https://localhost:8080/"
        },
        "id": "IcntDOK-E3rq",
        "outputId": "c454fd6b-6ac9-42f6-c89c-0647c55bfcfb"
      },
      "execution_count": null,
      "outputs": [
        {
          "output_type": "stream",
          "name": "stdout",
          "text": [
            "8951/8951 [==============================] - 27s 3ms/step\n",
            "8951/8951 [==============================] - 19s 2ms/step\n",
            "--------------------------------------------------------------------------------\n",
            "Predicting Sequential done\n",
            "Object mode testing .........\n",
            "--------------------------------------------------------------------------------\n"
          ]
        }
      ]
    },
    {
      "cell_type": "code",
      "source": [
        "score_pd=pd.DataFrame(score_dict).transpose().sort_values('f1_score',ascending=False)\n",
        "score_pd"
      ],
      "metadata": {
        "colab": {
          "base_uri": "https://localhost:8080/",
          "height": 89
        },
        "id": "K4SHfB70E6VC",
        "outputId": "66c49cca-2bf0-440c-b59c-1e251c13a45b"
      },
      "execution_count": null,
      "outputs": [
        {
          "output_type": "execute_result",
          "data": {
            "text/plain": [
              "            accuracy_score  f1_score  model_index  roc_auc_score\n",
              "Sequential        0.993146  0.992683          0.0       0.999969"
            ],
            "text/html": [
              "\n",
              "  <div id=\"df-8422bae2-3068-4ee2-a19f-649d72b3bc85\" class=\"colab-df-container\">\n",
              "    <div>\n",
              "<style scoped>\n",
              "    .dataframe tbody tr th:only-of-type {\n",
              "        vertical-align: middle;\n",
              "    }\n",
              "\n",
              "    .dataframe tbody tr th {\n",
              "        vertical-align: top;\n",
              "    }\n",
              "\n",
              "    .dataframe thead th {\n",
              "        text-align: right;\n",
              "    }\n",
              "</style>\n",
              "<table border=\"1\" class=\"dataframe\">\n",
              "  <thead>\n",
              "    <tr style=\"text-align: right;\">\n",
              "      <th></th>\n",
              "      <th>accuracy_score</th>\n",
              "      <th>f1_score</th>\n",
              "      <th>model_index</th>\n",
              "      <th>roc_auc_score</th>\n",
              "    </tr>\n",
              "  </thead>\n",
              "  <tbody>\n",
              "    <tr>\n",
              "      <th>Sequential</th>\n",
              "      <td>0.993146</td>\n",
              "      <td>0.992683</td>\n",
              "      <td>0.0</td>\n",
              "      <td>0.999969</td>\n",
              "    </tr>\n",
              "  </tbody>\n",
              "</table>\n",
              "</div>\n",
              "    <div class=\"colab-df-buttons\">\n",
              "\n",
              "  <div class=\"colab-df-container\">\n",
              "    <button class=\"colab-df-convert\" onclick=\"convertToInteractive('df-8422bae2-3068-4ee2-a19f-649d72b3bc85')\"\n",
              "            title=\"Convert this dataframe to an interactive table.\"\n",
              "            style=\"display:none;\">\n",
              "\n",
              "  <svg xmlns=\"http://www.w3.org/2000/svg\" height=\"24px\" viewBox=\"0 -960 960 960\">\n",
              "    <path d=\"M120-120v-720h720v720H120Zm60-500h600v-160H180v160Zm220 220h160v-160H400v160Zm0 220h160v-160H400v160ZM180-400h160v-160H180v160Zm440 0h160v-160H620v160ZM180-180h160v-160H180v160Zm440 0h160v-160H620v160Z\"/>\n",
              "  </svg>\n",
              "    </button>\n",
              "\n",
              "  <style>\n",
              "    .colab-df-container {\n",
              "      display:flex;\n",
              "      gap: 12px;\n",
              "    }\n",
              "\n",
              "    .colab-df-convert {\n",
              "      background-color: #E8F0FE;\n",
              "      border: none;\n",
              "      border-radius: 50%;\n",
              "      cursor: pointer;\n",
              "      display: none;\n",
              "      fill: #1967D2;\n",
              "      height: 32px;\n",
              "      padding: 0 0 0 0;\n",
              "      width: 32px;\n",
              "    }\n",
              "\n",
              "    .colab-df-convert:hover {\n",
              "      background-color: #E2EBFA;\n",
              "      box-shadow: 0px 1px 2px rgba(60, 64, 67, 0.3), 0px 1px 3px 1px rgba(60, 64, 67, 0.15);\n",
              "      fill: #174EA6;\n",
              "    }\n",
              "\n",
              "    .colab-df-buttons div {\n",
              "      margin-bottom: 4px;\n",
              "    }\n",
              "\n",
              "    [theme=dark] .colab-df-convert {\n",
              "      background-color: #3B4455;\n",
              "      fill: #D2E3FC;\n",
              "    }\n",
              "\n",
              "    [theme=dark] .colab-df-convert:hover {\n",
              "      background-color: #434B5C;\n",
              "      box-shadow: 0px 1px 3px 1px rgba(0, 0, 0, 0.15);\n",
              "      filter: drop-shadow(0px 1px 2px rgba(0, 0, 0, 0.3));\n",
              "      fill: #FFFFFF;\n",
              "    }\n",
              "  </style>\n",
              "\n",
              "    <script>\n",
              "      const buttonEl =\n",
              "        document.querySelector('#df-8422bae2-3068-4ee2-a19f-649d72b3bc85 button.colab-df-convert');\n",
              "      buttonEl.style.display =\n",
              "        google.colab.kernel.accessAllowed ? 'block' : 'none';\n",
              "\n",
              "      async function convertToInteractive(key) {\n",
              "        const element = document.querySelector('#df-8422bae2-3068-4ee2-a19f-649d72b3bc85');\n",
              "        const dataTable =\n",
              "          await google.colab.kernel.invokeFunction('convertToInteractive',\n",
              "                                                    [key], {});\n",
              "        if (!dataTable) return;\n",
              "\n",
              "        const docLinkHtml = 'Like what you see? Visit the ' +\n",
              "          '<a target=\"_blank\" href=https://colab.research.google.com/notebooks/data_table.ipynb>data table notebook</a>'\n",
              "          + ' to learn more about interactive tables.';\n",
              "        element.innerHTML = '';\n",
              "        dataTable['output_type'] = 'display_data';\n",
              "        await google.colab.output.renderOutput(dataTable, element);\n",
              "        const docLink = document.createElement('div');\n",
              "        docLink.innerHTML = docLinkHtml;\n",
              "        element.appendChild(docLink);\n",
              "      }\n",
              "    </script>\n",
              "  </div>\n",
              "\n",
              "\n",
              "<div id=\"df-4f0656aa-6181-405d-8ff5-161980018da7\">\n",
              "  <button class=\"colab-df-quickchart\" onclick=\"quickchart('df-4f0656aa-6181-405d-8ff5-161980018da7')\"\n",
              "            title=\"Suggest charts.\"\n",
              "            style=\"display:none;\">\n",
              "\n",
              "<svg xmlns=\"http://www.w3.org/2000/svg\" height=\"24px\"viewBox=\"0 0 24 24\"\n",
              "     width=\"24px\">\n",
              "    <g>\n",
              "        <path d=\"M19 3H5c-1.1 0-2 .9-2 2v14c0 1.1.9 2 2 2h14c1.1 0 2-.9 2-2V5c0-1.1-.9-2-2-2zM9 17H7v-7h2v7zm4 0h-2V7h2v10zm4 0h-2v-4h2v4z\"/>\n",
              "    </g>\n",
              "</svg>\n",
              "  </button>\n",
              "\n",
              "<style>\n",
              "  .colab-df-quickchart {\n",
              "    background-color: #E8F0FE;\n",
              "    border: none;\n",
              "    border-radius: 50%;\n",
              "    cursor: pointer;\n",
              "    display: none;\n",
              "    fill: #1967D2;\n",
              "    height: 32px;\n",
              "    padding: 0 0 0 0;\n",
              "    width: 32px;\n",
              "  }\n",
              "\n",
              "  .colab-df-quickchart:hover {\n",
              "    background-color: #E2EBFA;\n",
              "    box-shadow: 0px 1px 2px rgba(60, 64, 67, 0.3), 0px 1px 3px 1px rgba(60, 64, 67, 0.15);\n",
              "    fill: #174EA6;\n",
              "  }\n",
              "\n",
              "  [theme=dark] .colab-df-quickchart {\n",
              "    background-color: #3B4455;\n",
              "    fill: #D2E3FC;\n",
              "  }\n",
              "\n",
              "  [theme=dark] .colab-df-quickchart:hover {\n",
              "    background-color: #434B5C;\n",
              "    box-shadow: 0px 1px 3px 1px rgba(0, 0, 0, 0.15);\n",
              "    filter: drop-shadow(0px 1px 2px rgba(0, 0, 0, 0.3));\n",
              "    fill: #FFFFFF;\n",
              "  }\n",
              "</style>\n",
              "\n",
              "  <script>\n",
              "    async function quickchart(key) {\n",
              "      const charts = await google.colab.kernel.invokeFunction(\n",
              "          'suggestCharts', [key], {});\n",
              "    }\n",
              "    (() => {\n",
              "      let quickchartButtonEl =\n",
              "        document.querySelector('#df-4f0656aa-6181-405d-8ff5-161980018da7 button');\n",
              "      quickchartButtonEl.style.display =\n",
              "        google.colab.kernel.accessAllowed ? 'block' : 'none';\n",
              "    })();\n",
              "  </script>\n",
              "</div>\n",
              "    </div>\n",
              "  </div>\n"
            ]
          },
          "metadata": {},
          "execution_count": 54
        }
      ]
    },
    {
      "cell_type": "code",
      "source": [
        "prediction=np.argmax(model.predict(X_test), axis=-1)\n",
        "prediction"
      ],
      "metadata": {
        "colab": {
          "base_uri": "https://localhost:8080/"
        },
        "id": "RZzJ0gfDFNsu",
        "outputId": "d74a14f8-8259-4592-a0c7-b56bfb3aa22f"
      },
      "execution_count": null,
      "outputs": [
        {
          "output_type": "stream",
          "name": "stdout",
          "text": [
            "8951/8951 [==============================] - 37s 4ms/step\n"
          ]
        },
        {
          "output_type": "execute_result",
          "data": {
            "text/plain": [
              "array([10,  4, 10, ...,  5,  4,  4])"
            ]
          },
          "metadata": {},
          "execution_count": 55
        }
      ]
    },
    {
      "cell_type": "code",
      "source": [
        "prediction=l_eh.inverse_transform(prediction)\n",
        "prediction"
      ],
      "metadata": {
        "colab": {
          "base_uri": "https://localhost:8080/"
        },
        "id": "kKIkdf2BFR9Y",
        "outputId": "6f9220fb-0b35-4058-ea5e-f68484ea3b2f"
      },
      "execution_count": null,
      "outputs": [
        {
          "output_type": "execute_result",
          "data": {
            "text/plain": [
              "array(['transient activities', 'ironing', 'transient activities', ...,\n",
              "       'lying', 'ironing', 'ironing'], dtype=object)"
            ]
          },
          "metadata": {},
          "execution_count": 56
        }
      ]
    },
    {
      "cell_type": "code",
      "source": [
        "y_test"
      ],
      "metadata": {
        "colab": {
          "base_uri": "https://localhost:8080/",
          "height": 423
        },
        "id": "94YBq3d_Fdfc",
        "outputId": "d5ad46d4-641c-43a7-b737-e06457a4d1ec"
      },
      "execution_count": null,
      "outputs": [
        {
          "output_type": "execute_result",
          "data": {
            "text/plain": [
              "                   activityID\n",
              "813592   transient activities\n",
              "469530                ironing\n",
              "1562479  transient activities\n",
              "1763068  transient activities\n",
              "2459688  transient activities\n",
              "...                       ...\n",
              "1540041       vacuum cleaning\n",
              "1234470  transient activities\n",
              "850179                  lying\n",
              "92544                 ironing\n",
              "469500                ironing\n",
              "\n",
              "[286401 rows x 1 columns]"
            ],
            "text/html": [
              "\n",
              "  <div id=\"df-9ffe2445-2478-4927-8889-e9aaccaa3b58\" class=\"colab-df-container\">\n",
              "    <div>\n",
              "<style scoped>\n",
              "    .dataframe tbody tr th:only-of-type {\n",
              "        vertical-align: middle;\n",
              "    }\n",
              "\n",
              "    .dataframe tbody tr th {\n",
              "        vertical-align: top;\n",
              "    }\n",
              "\n",
              "    .dataframe thead th {\n",
              "        text-align: right;\n",
              "    }\n",
              "</style>\n",
              "<table border=\"1\" class=\"dataframe\">\n",
              "  <thead>\n",
              "    <tr style=\"text-align: right;\">\n",
              "      <th></th>\n",
              "      <th>activityID</th>\n",
              "    </tr>\n",
              "  </thead>\n",
              "  <tbody>\n",
              "    <tr>\n",
              "      <th>813592</th>\n",
              "      <td>transient activities</td>\n",
              "    </tr>\n",
              "    <tr>\n",
              "      <th>469530</th>\n",
              "      <td>ironing</td>\n",
              "    </tr>\n",
              "    <tr>\n",
              "      <th>1562479</th>\n",
              "      <td>transient activities</td>\n",
              "    </tr>\n",
              "    <tr>\n",
              "      <th>1763068</th>\n",
              "      <td>transient activities</td>\n",
              "    </tr>\n",
              "    <tr>\n",
              "      <th>2459688</th>\n",
              "      <td>transient activities</td>\n",
              "    </tr>\n",
              "    <tr>\n",
              "      <th>...</th>\n",
              "      <td>...</td>\n",
              "    </tr>\n",
              "    <tr>\n",
              "      <th>1540041</th>\n",
              "      <td>vacuum cleaning</td>\n",
              "    </tr>\n",
              "    <tr>\n",
              "      <th>1234470</th>\n",
              "      <td>transient activities</td>\n",
              "    </tr>\n",
              "    <tr>\n",
              "      <th>850179</th>\n",
              "      <td>lying</td>\n",
              "    </tr>\n",
              "    <tr>\n",
              "      <th>92544</th>\n",
              "      <td>ironing</td>\n",
              "    </tr>\n",
              "    <tr>\n",
              "      <th>469500</th>\n",
              "      <td>ironing</td>\n",
              "    </tr>\n",
              "  </tbody>\n",
              "</table>\n",
              "<p>286401 rows × 1 columns</p>\n",
              "</div>\n",
              "    <div class=\"colab-df-buttons\">\n",
              "\n",
              "  <div class=\"colab-df-container\">\n",
              "    <button class=\"colab-df-convert\" onclick=\"convertToInteractive('df-9ffe2445-2478-4927-8889-e9aaccaa3b58')\"\n",
              "            title=\"Convert this dataframe to an interactive table.\"\n",
              "            style=\"display:none;\">\n",
              "\n",
              "  <svg xmlns=\"http://www.w3.org/2000/svg\" height=\"24px\" viewBox=\"0 -960 960 960\">\n",
              "    <path d=\"M120-120v-720h720v720H120Zm60-500h600v-160H180v160Zm220 220h160v-160H400v160Zm0 220h160v-160H400v160ZM180-400h160v-160H180v160Zm440 0h160v-160H620v160ZM180-180h160v-160H180v160Zm440 0h160v-160H620v160Z\"/>\n",
              "  </svg>\n",
              "    </button>\n",
              "\n",
              "  <style>\n",
              "    .colab-df-container {\n",
              "      display:flex;\n",
              "      gap: 12px;\n",
              "    }\n",
              "\n",
              "    .colab-df-convert {\n",
              "      background-color: #E8F0FE;\n",
              "      border: none;\n",
              "      border-radius: 50%;\n",
              "      cursor: pointer;\n",
              "      display: none;\n",
              "      fill: #1967D2;\n",
              "      height: 32px;\n",
              "      padding: 0 0 0 0;\n",
              "      width: 32px;\n",
              "    }\n",
              "\n",
              "    .colab-df-convert:hover {\n",
              "      background-color: #E2EBFA;\n",
              "      box-shadow: 0px 1px 2px rgba(60, 64, 67, 0.3), 0px 1px 3px 1px rgba(60, 64, 67, 0.15);\n",
              "      fill: #174EA6;\n",
              "    }\n",
              "\n",
              "    .colab-df-buttons div {\n",
              "      margin-bottom: 4px;\n",
              "    }\n",
              "\n",
              "    [theme=dark] .colab-df-convert {\n",
              "      background-color: #3B4455;\n",
              "      fill: #D2E3FC;\n",
              "    }\n",
              "\n",
              "    [theme=dark] .colab-df-convert:hover {\n",
              "      background-color: #434B5C;\n",
              "      box-shadow: 0px 1px 3px 1px rgba(0, 0, 0, 0.15);\n",
              "      filter: drop-shadow(0px 1px 2px rgba(0, 0, 0, 0.3));\n",
              "      fill: #FFFFFF;\n",
              "    }\n",
              "  </style>\n",
              "\n",
              "    <script>\n",
              "      const buttonEl =\n",
              "        document.querySelector('#df-9ffe2445-2478-4927-8889-e9aaccaa3b58 button.colab-df-convert');\n",
              "      buttonEl.style.display =\n",
              "        google.colab.kernel.accessAllowed ? 'block' : 'none';\n",
              "\n",
              "      async function convertToInteractive(key) {\n",
              "        const element = document.querySelector('#df-9ffe2445-2478-4927-8889-e9aaccaa3b58');\n",
              "        const dataTable =\n",
              "          await google.colab.kernel.invokeFunction('convertToInteractive',\n",
              "                                                    [key], {});\n",
              "        if (!dataTable) return;\n",
              "\n",
              "        const docLinkHtml = 'Like what you see? Visit the ' +\n",
              "          '<a target=\"_blank\" href=https://colab.research.google.com/notebooks/data_table.ipynb>data table notebook</a>'\n",
              "          + ' to learn more about interactive tables.';\n",
              "        element.innerHTML = '';\n",
              "        dataTable['output_type'] = 'display_data';\n",
              "        await google.colab.output.renderOutput(dataTable, element);\n",
              "        const docLink = document.createElement('div');\n",
              "        docLink.innerHTML = docLinkHtml;\n",
              "        element.appendChild(docLink);\n",
              "      }\n",
              "    </script>\n",
              "  </div>\n",
              "\n",
              "\n",
              "<div id=\"df-c7c54d3b-8675-4f86-9353-0b31f59d8665\">\n",
              "  <button class=\"colab-df-quickchart\" onclick=\"quickchart('df-c7c54d3b-8675-4f86-9353-0b31f59d8665')\"\n",
              "            title=\"Suggest charts.\"\n",
              "            style=\"display:none;\">\n",
              "\n",
              "<svg xmlns=\"http://www.w3.org/2000/svg\" height=\"24px\"viewBox=\"0 0 24 24\"\n",
              "     width=\"24px\">\n",
              "    <g>\n",
              "        <path d=\"M19 3H5c-1.1 0-2 .9-2 2v14c0 1.1.9 2 2 2h14c1.1 0 2-.9 2-2V5c0-1.1-.9-2-2-2zM9 17H7v-7h2v7zm4 0h-2V7h2v10zm4 0h-2v-4h2v4z\"/>\n",
              "    </g>\n",
              "</svg>\n",
              "  </button>\n",
              "\n",
              "<style>\n",
              "  .colab-df-quickchart {\n",
              "    background-color: #E8F0FE;\n",
              "    border: none;\n",
              "    border-radius: 50%;\n",
              "    cursor: pointer;\n",
              "    display: none;\n",
              "    fill: #1967D2;\n",
              "    height: 32px;\n",
              "    padding: 0 0 0 0;\n",
              "    width: 32px;\n",
              "  }\n",
              "\n",
              "  .colab-df-quickchart:hover {\n",
              "    background-color: #E2EBFA;\n",
              "    box-shadow: 0px 1px 2px rgba(60, 64, 67, 0.3), 0px 1px 3px 1px rgba(60, 64, 67, 0.15);\n",
              "    fill: #174EA6;\n",
              "  }\n",
              "\n",
              "  [theme=dark] .colab-df-quickchart {\n",
              "    background-color: #3B4455;\n",
              "    fill: #D2E3FC;\n",
              "  }\n",
              "\n",
              "  [theme=dark] .colab-df-quickchart:hover {\n",
              "    background-color: #434B5C;\n",
              "    box-shadow: 0px 1px 3px 1px rgba(0, 0, 0, 0.15);\n",
              "    filter: drop-shadow(0px 1px 2px rgba(0, 0, 0, 0.3));\n",
              "    fill: #FFFFFF;\n",
              "  }\n",
              "</style>\n",
              "\n",
              "  <script>\n",
              "    async function quickchart(key) {\n",
              "      const charts = await google.colab.kernel.invokeFunction(\n",
              "          'suggestCharts', [key], {});\n",
              "    }\n",
              "    (() => {\n",
              "      let quickchartButtonEl =\n",
              "        document.querySelector('#df-c7c54d3b-8675-4f86-9353-0b31f59d8665 button');\n",
              "      quickchartButtonEl.style.display =\n",
              "        google.colab.kernel.accessAllowed ? 'block' : 'none';\n",
              "    })();\n",
              "  </script>\n",
              "</div>\n",
              "    </div>\n",
              "  </div>\n"
            ]
          },
          "metadata": {},
          "execution_count": 57
        }
      ]
    },
    {
      "cell_type": "code",
      "source": [
        "print(classification_report( y_test.values , prediction ))"
      ],
      "metadata": {
        "colab": {
          "base_uri": "https://localhost:8080/"
        },
        "id": "f6sZfyW5FiVr",
        "outputId": "4c13f1db-fa53-4a37-df39-dad4ecb6b4fc"
      },
      "execution_count": null,
      "outputs": [
        {
          "output_type": "stream",
          "name": "stdout",
          "text": [
            "                      precision    recall  f1-score   support\n",
            "\n",
            "      Nordic walking       1.00      0.99      1.00     18811\n",
            "    ascending stairs       0.98      0.98      0.98     11722\n",
            "             cycling       1.00      1.00      1.00     16460\n",
            "   descending stairs       0.98      0.98      0.98     10494\n",
            "             ironing       1.00      1.00      1.00     23869\n",
            "               lying       1.00      0.99      1.00     19252\n",
            "        rope jumping       0.99      0.98      0.99      4297\n",
            "             running       1.00      0.99      0.99      9820\n",
            "             sitting       1.00      1.00      1.00     18519\n",
            "            standing       0.99      1.00      1.00     18993\n",
            "transient activities       0.99      0.99      0.99     92753\n",
            "     vacuum cleaning       1.00      0.99      1.00     17535\n",
            "             walking       1.00      1.00      1.00     23876\n",
            "\n",
            "            accuracy                           0.99    286401\n",
            "           macro avg       0.99      0.99      0.99    286401\n",
            "        weighted avg       0.99      0.99      0.99    286401\n",
            "\n"
          ]
        }
      ]
    },
    {
      "cell_type": "code",
      "source": [
        "sns.set_style('dark')\n",
        "ConfusionMatrixDisplay.from_predictions( y_test.values , prediction )\n",
        "plt.tight_layout()"
      ],
      "metadata": {
        "colab": {
          "base_uri": "https://localhost:8080/",
          "height": 475
        },
        "id": "ip2bkJCoFkNh",
        "outputId": "1b03dab1-f3d3-49ed-ad74-30cda4efae3c"
      },
      "execution_count": null,
      "outputs": [
        {
          "output_type": "display_data",
          "data": {
            "text/plain": [
              "<Figure size 640x480 with 2 Axes>"
            ],
            "image/png": "[encoded data removed]"
          },
          "metadata": {}
        }
      ]
    },
    {
      "cell_type": "code",
      "source": [],
      "metadata": {
        "id": "-83vKBgjFrZ9"
      },
      "execution_count": null,
      "outputs": []
    }
  ]
}